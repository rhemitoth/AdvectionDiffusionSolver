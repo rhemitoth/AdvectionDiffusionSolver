{
 "cells": [
  {
   "cell_type": "code",
   "execution_count": 1,
   "id": "15fa28c7",
   "metadata": {},
   "outputs": [],
   "source": [
    "import numpy as np\n",
    "import numpy.lib.stride_tricks\n",
    "import math\n",
    "from matplotlib import pyplot as plt"
   ]
  },
  {
   "cell_type": "code",
   "execution_count": 2,
   "id": "ab9ecb59",
   "metadata": {},
   "outputs": [],
   "source": [
    "u = np.zeros((2,2,10))\n",
    "w = np.zeros((1,2,10))"
   ]
  },
  {
   "cell_type": "code",
   "execution_count": 3,
   "id": "68642b18",
   "metadata": {},
   "outputs": [],
   "source": [
    "#Custom Functions\n",
    "\n",
    "#Trapezoid Integration Function\n",
    "def integrate(u,dx,x_vals):\n",
    "    area_under_curve = 0\n",
    "    for i in range(0,len(x_vals)-1):\n",
    "        area = dx * (u[i+1]+u[i]) / 2\n",
    "        area_under_curve = area_under_curve + area\n",
    "    return area_under_curve\n",
    "\n",
    "#Gaussian Function\n",
    "def gaussian(x, mu, sigma):\n",
    "    denom = sigma * ((2 * math.pi)**0.5)\n",
    "    numerator = math.exp(((x - mu)**2) / ((sigma) **2) / -2)\n",
    "    res = numerator / denom\n",
    "    return res\n",
    "\n",
    "# Habitat Preference\n",
    "def preference(x):\n",
    "    pi = math.pi\n",
    "    res = -math.cos(pi*x/5) + 1.1 \n",
    "    res = np.float64(res)\n",
    "    return res\n",
    "\n",
    "# 1st Derivative of Habitat Preference Function\n",
    "def preference_slope(x):\n",
    "    pi = math.pi\n",
    "    res = pi/5*math.sin(pi*x/5)\n",
    "    res = np.float64(res)\n",
    "    return res\n",
    "\n",
    "# 2nd Derivative of Habitat Preference Function\n",
    "def preference_slope_slope(x):\n",
    "    pi = math.pi\n",
    "    res = (2*pi*pi/625) * math.cos(2*pi*x/25)# Example 1\n",
    "    #res = -0.02 * ((-0.02 * math.exp(-0.01*(x-50)**2)*(x-50))*(x-50)+1*math.exp(-0.01*(x-50)**2)) # Example 2\n",
    "    res = np.float64(res)\n",
    "    return res\n",
    "\n",
    "#Normalized RMSE\n",
    "\n",
    "def rmse(model, true, nx, t):\n",
    "    summation = 0\n",
    "    for i in range(0,nx):\n",
    "        dif = (model[t][1][i] - true[0][1][i])**2\n",
    "        summation = summation + dif\n",
    "    rmse = (summation/nx)**0.5\n",
    "    return abs(rmse)\n",
    "\n",
    "#Convergence Flag\n",
    "\n",
    "def converge(current_t, t_minus1000, t_minus2000):\n",
    "    #function to determine whether finite difference scheme has convered\n",
    "    #inputs are rows of an array\n",
    "    current_t = np.float128(current_t ** 0.01)\n",
    "    t_minus50 = np.float128(t_minus1000 ** 0.01)\n",
    "    t_minus100 = np.float128(t_minus2000 ** 0.01)\n",
    "    h1 = abs(t_minus1000 - t_minus2000)\n",
    "    print(h1)\n",
    "    h2 = abs(current_t - t_minus1000)\n",
    "    print(h2)\n",
    "    dif = abs(h1-h2)\n",
    "    print(dif)\n",
    "    cuttoff = np.format_float_scientific(np.float128(1e-128), unique=False, precision=128)\n",
    "    mask = dif>np.float128(cuttoff)\n",
    "    print(mask)\n",
    "    if True not in mask:\n",
    "        print(\"yes\")\n",
    "        return True\n",
    "    \n",
    "#Sliding window\n",
    "def rolling_window(a, window):\n",
    "    shape = a.shape[:-1] + (a.shape[-1] - window + 1, window)\n",
    "    strides = a.strides + (a.strides[-1],)\n",
    "    return np.lib.stride_tricks.as_strided(a, shape=shape, strides=strides)\n",
    "        \n",
    "    "
   ]
  },
  {
   "cell_type": "code",
   "execution_count": 4,
   "id": "a966c6f8",
   "metadata": {},
   "outputs": [],
   "source": [
    "#Model Settings\n",
    "\n",
    "# Bounds\n",
    "start = 0 # start bound\n",
    "stop = 50 # stop bound\n",
    "\n",
    "\n",
    "# Model parameters\n",
    "dt = 0.01 # delta t\n",
    "dx = 1  # delta x\n",
    "T = 0.1 # Total time\n",
    "Nt = int(T / dt)  # Number of time steps\n",
    "Nx = int((abs(stop-start))/dx)  # Number of x steps\n",
    "mean_sl = 0.04 #mean step length\n",
    "k = (mean_sl**2)/2/dt # diffusion coefficient equal to mean step length squared\n",
    "r = k * dt / dx / dx  # Fourier number\n",
    "\n",
    "# Fourier Number Flag\n",
    "if r > 0.5:\n",
    "    print(\"Fourier Number \" + str(r) +  \" > 0.5. Adjust mean step length, dx, or dt\")"
   ]
  },
  {
   "cell_type": "code",
   "execution_count": 5,
   "id": "217119f6",
   "metadata": {},
   "outputs": [],
   "source": [
    "# Initializing x values where u(x,t) will be calculated\n",
    "Xs = np.arange(0, 11, dx)\n",
    "\n",
    "# Initializing array with Nt row, Nx columns, and [x,u(x,t)] per cell\n",
    "u = np.zeros((2, 2, len(Xs)))\n",
    "\n",
    "#Habitat Preference Function\n",
    "w = np.zeros((1,2,len(Xs)))\n",
    "w[0][0] = Xs\n",
    "for i in range(0,len(Xs)):\n",
    "    w[0][1][i] = preference(w[0][0][i])\n",
    "\n",
    "#First Spatial Derivative of Habitat Preference Function\n",
    "wx = np.zeros((1,2,len(Xs)))\n",
    "wx[0][0] = Xs\n",
    "for i in range(0,len(Xs)):\n",
    "    wx[0][1][i] = preference_slope(w[0][0][i])\n",
    "\n",
    "#Second Spatial Derivative of Habitat Preference Function\n",
    "wxx = np.zeros((1,2,len(Xs)))\n",
    "wxx[0][0] = Xs\n",
    "for i in range(0,len(Xs)):\n",
    "    wxx[0][1][i] = preference_slope_slope(w[0][0][i])\n",
    "\n",
    "#Velocity\n",
    "c = np.zeros((1,2,len(Xs)))\n",
    "c[0][0] = Xs\n",
    "for i in range(0,len(Xs)):\n",
    "    c[0][1][i] = ((mean_sl**2)/dt)*(wx[0][1][i]/w[0][1][i])\n",
    "    \n",
    "#First derivative of veloctiy\n",
    "cx = np.zeros((1,2,len(Xs)))\n",
    "cx[0][0] = Xs\n",
    "for i in range(0,len(Xs)):\n",
    "    cx[0][1][i] = ((mean_sl**2)/dt)*(((wxx[0][1][i]*w[0][1][i])-wx[0][1][i]**2)/(w[0][1][i]**2))\n",
    "\n",
    "# Populating x values in array u\n",
    "for j in range(0, 2):\n",
    "    u[j][0]=Xs\n",
    "    \n",
    "# Setting Initial Condition\n",
    "IC=[1,2,3,4,5,6,5,4,3,2,1]\n",
    "u[0][1] = IC # Populating initial condition in array u"
   ]
  },
  {
   "cell_type": "code",
   "execution_count": 6,
   "id": "1ae1e2eb",
   "metadata": {},
   "outputs": [
    {
     "name": "stdout",
     "output_type": "stream",
     "text": [
      "[[[ 0.  1.  2.  3.  4.  5.  6.  7.  8.  9. 10.]\n",
      "  [ 1.  2.  3.  4.  5.  6.  5.  4.  3.  2.  1.]]\n",
      "\n",
      " [[ 0.  1.  2.  3.  4.  5.  6.  7.  8.  9. 10.]\n",
      "  [ 0.  0.  0.  0.  0.  0.  0.  0.  0.  0.  0.]]]\n",
      "[[[ 0.          1.          2.          3.          4.\n",
      "    5.          6.          7.          8.          9.\n",
      "   10.        ]\n",
      "  [ 0.1         0.29098301  0.79098301  1.40901699  1.90901699\n",
      "    2.1         1.90901699  1.40901699  0.79098301  0.29098301\n",
      "    0.1       ]]]\n"
     ]
    }
   ],
   "source": [
    "print(u)\n",
    "print(w)"
   ]
  },
  {
   "cell_type": "code",
   "execution_count": 60,
   "id": "76c5213b",
   "metadata": {},
   "outputs": [],
   "source": [
    "c_win = rolling_window(c[0][1],3)\n",
    "u_win = rolling_window(u[0][1],3)\n",
    "a = c_win * u_win\n",
    "#Coefs from finite difference\n",
    "advec_multipliers_cd = np.array([-1,0,1])\n",
    "#Coefs from finite difference\n",
    "advec_multipliers_posc = np.array([1,-4,3])\n",
    "#Coefs from finite difference\n",
    "advec_multipliers_negc = np.array([-1,4,-3])\n",
    "#Coefs from finite difference\n",
    "diffusion_multipliers = np.array([1,-2,1])"
   ]
  },
  {
   "cell_type": "code",
   "execution_count": 43,
   "id": "e1c7429a",
   "metadata": {},
   "outputs": [],
   "source": [
    "#c > 0 upwind\n",
    "\n",
    "#Calculating Advection\n",
    "advec_broad_posc = np.broadcast(a, advec_multipliers_posc)\n",
    "advec_posc = np.empty(advec_broad_posc.shape)\n",
    "advec_posc.flat = [-u*v/(2*dx) for (u,v) in advec_broad_posc]\n",
    "advec_sum_posc = np.sum(advec_posc, axis = 1)\n",
    "advec_posc = numpy.append([0,0],advec_sum_posc)\n"
   ]
  },
  {
   "cell_type": "code",
   "execution_count": 44,
   "id": "8d1daf36",
   "metadata": {},
   "outputs": [],
   "source": [
    "\n",
    "\n",
    "#Calculating Advection\n",
    "advec_broad_negc = np.broadcast(a, advec_multipliers_negc)\n",
    "advec_negc = np.empty(advec_broad_negc.shape)\n",
    "advec_negc.flat = [-u*v/(2*dx) for (u,v) in advec_broad_negc]\n",
    "advec_sum_negc = np.sum(advec_negc, axis = 1)\n",
    "advec_negc = numpy.append(advec_sum_negc,[0,0])\n",
    "\n",
    "#Calculating advection manually at edges\n",
    "\n"
   ]
  },
  {
   "cell_type": "code",
   "execution_count": 45,
   "id": "daf31f75",
   "metadata": {},
   "outputs": [
    {
     "data": {
      "text/plain": [
       "array([ 0.        ,  0.        ,  0.26834894,  0.11504425,  0.12938585,\n",
       "        0.17382174,  0.15476714,  0.09760331,  0.07847413,  0.0196755 ,\n",
       "       -0.63097606])"
      ]
     },
     "execution_count": 45,
     "metadata": {},
     "output_type": "execute_result"
    }
   ],
   "source": [
    "advec_posc"
   ]
  },
  {
   "cell_type": "code",
   "execution_count": 46,
   "id": "8c588603",
   "metadata": {},
   "outputs": [],
   "source": [
    "# c central dif\n",
    "\n",
    "\n",
    "\n",
    "#Creating sliding window to calculate advection and diffusion at each spatial position \n",
    "\n",
    "#Calculating Advection\n",
    "advec_broad_cd = np.broadcast(a, advec_multipliers_cd)\n",
    "advec_cd = np.empty(advec_broad_cd.shape)\n",
    "advec_cd.flat = [-u*v/(2*dx) for (u,v) in advec_broad_cd]\n",
    "advec_sum_cd = np.sum(advec_cd, axis = 1)\n",
    "advec_cd1 = np.append([0], advec_sum_cd)\n",
    "advec_cd = np.append(advec_cd1,[0])\n",
    "\n"
   ]
  },
  {
   "cell_type": "code",
   "execution_count": 66,
   "id": "563c3938",
   "metadata": {},
   "outputs": [],
   "source": [
    "#assigning advection scheme\n",
    "#1 = c>0\n",
    "#0 = central difference\n",
    "#-1 = c<0\n",
    "\n",
    "csign_win = np.where(c_win < 0, -1,np.where(c_win>0,1,0))\n",
    "\n",
    "posc_check1 = np.all(csign_win == 1, axis = 1)\n",
    "posc_check = np.append([False,False],posc_check1)\n",
    "\n",
    "negc_check1 = np.all(csign_win == -1, axis = 1)\n",
    "negc_check = np.append(negc_check1, [False,False])\n",
    "\n",
    "cd_check = np.where(negc_check == posc_check, True, False)\n",
    "cd_check[0] = False\n",
    "cd_check[-1] = False\n",
    "\n",
    "advec_scheme = np.full((1,len(Xs)),-99)\n",
    "advec_scheme = np.where(posc_check == True,1,np.where(negc_check == True,-1,np.where(cd_check == True, 0, advec_scheme[0][1])))\n",
    "\n",
    "advection = np.zeros((1,len(Xs)))\n",
    "advection = np.where(advec_scheme[0][1] == 1, advec_posc, \n",
    "                           np.where(advec_scheme[0][1] == 0, advec_cd,\n",
    "                                   np.where(advec_scheme[0][1] == -1, advec_negc, -99)))"
   ]
  },
  {
   "cell_type": "code",
   "execution_count": 48,
   "id": "10ee9e46",
   "metadata": {},
   "outputs": [
    {
     "name": "stdout",
     "output_type": "stream",
     "text": [
      "[[[ 0.00000000e+00  1.00000000e+00  2.00000000e+00  3.00000000e+00\n",
      "    4.00000000e+00  5.00000000e+00  6.00000000e+00  7.00000000e+00\n",
      "    8.00000000e+00  9.00000000e+00  1.00000000e+01]\n",
      "  [-9.90000000e+01 -1.81313559e-01  6.73598762e-02  1.15044247e-01\n",
      "    1.29385850e-01  1.73821744e-01 -7.84741325e-02 -1.96755050e-02\n",
      "    6.30976058e-01 -1.81313559e-01 -9.90000000e+01]]]\n"
     ]
    }
   ],
   "source": [
    "print(advection)"
   ]
  },
  {
   "cell_type": "code",
   "execution_count": 49,
   "id": "fa17c73e",
   "metadata": {},
   "outputs": [
    {
     "data": {
      "text/plain": [
       "array([[ 0,  1,  1],\n",
       "       [ 1,  1,  1],\n",
       "       [ 1,  1,  1],\n",
       "       [ 1,  1,  1],\n",
       "       [ 1,  1, -1],\n",
       "       [ 1, -1, -1],\n",
       "       [-1, -1, -1],\n",
       "       [-1, -1, -1],\n",
       "       [-1, -1, -1]])"
      ]
     },
     "execution_count": 49,
     "metadata": {},
     "output_type": "execute_result"
    }
   ],
   "source": [
    "csign_win"
   ]
  },
  {
   "cell_type": "code",
   "execution_count": 67,
   "id": "fe063175",
   "metadata": {},
   "outputs": [],
   "source": [
    "#Calculate advection manually at edges\n",
    "csign = np.where(c[0][1] < 0, -1,np.where(c[0][1]>0,1,0))\n",
    "\n",
    "#Left Edge\n",
    "backward_csign = np.array([csign[0],csign[-1], csign[-2]])\n",
    "if advection[0] == -99 and sum(backward_csign) == 3:\n",
    "    backward_u = np.array([u[0][1][-2], u[0][1][-1], u[0],[1],[0]])\n",
    "    backward_c = np.array([c[0][1][-2], c[0][1][-1]])\n",
    "    advec = backward_c * advec_multipliers_posc * backward_u * (-1/(2*dx))\n",
    "    advec_sum = sum(advec)\n",
    "    advection[0] = advec_sum\n",
    "else:\n",
    "    center_left_u = np.array([u[0][1][-1], u[0][1][0], u[0][1][1]])\n",
    "    center_left_c = np.array([c[0][1][-1], c[0][1][0], c[0][1][1]])\n",
    "    advec = center_left_u * center_left_c * advec_multipliers_cd * (-1/(2*dx))\n",
    "    advec_sum = sum(advec)\n",
    "    advection[0] = advec_sum\n",
    "                           \n",
    "#Right Edge\n",
    "forward_csign = np.array([csign[-1],csign[0], csign[1]])\n",
    "if advection[-1] == -99 and sum(forward_csign) == -3:\n",
    "    forward_u = np.array([u[0][1][-1], u[0][1][0], u[0][1][1]])\n",
    "    forward_c =  np.array([c[0][1][-1], c[0][1][0], c[0][1][1]])\n",
    "    advec = forward_c * advec_multipliers_negc * forward_u * (-1/(2*dx))\n",
    "    advec_sum = sum(advec)\n",
    "    advection[-1] = advec_sum\n",
    "else:\n",
    "    center_right_u = np.array([u[0][1][-2], u[0][1][-1], u[0][1][0]])\n",
    "    center_right_c = np.array([c[0][1][-2], c[0][1][-1], c[0][1][0]])\n",
    "    advec = center_left_u * center_left_c * advec_multipliers_cd * (-1/(2*dx))\n",
    "    advec_sum = sum(advec)\n",
    "    advection[-1] = advec_sum\n"
   ]
  },
  {
   "cell_type": "code",
   "execution_count": 68,
   "id": "dbd0ff6b",
   "metadata": {},
   "outputs": [],
   "source": [
    "#Adding c'(i) * u(i,j) to advection term\n",
    "advection += u[0][1] * cx[0][1]\n"
   ]
  },
  {
   "cell_type": "code",
   "execution_count": null,
   "id": "e9a2184a",
   "metadata": {},
   "outputs": [],
   "source": []
  },
  {
   "cell_type": "code",
   "execution_count": 71,
   "id": "efe09caa",
   "metadata": {},
   "outputs": [],
   "source": [
    "#Calculating Diffusion\n",
    "dif_broad = np.broadcast(u_win,diffusion_multipliers)\n",
    "dif = np.empty(dif_broad.shape)\n",
    "dif.flat = [u*v/(2*dx) for (u,v) in dif_broad]\n",
    "dif_sum = np.sum(dif, axis = 1)\n",
    "dif1 = np.append([0], dif_sum)\n",
    "diffusion = np.append(dif1, [0])\n",
    "\n"
   ]
  },
  {
   "cell_type": "code",
   "execution_count": 73,
   "id": "b02bc952",
   "metadata": {},
   "outputs": [
    {
     "data": {
      "text/plain": [
       "array([ 0.,  0.,  0.,  0.,  0., -1.,  0.,  0.,  0.,  0.,  0.])"
      ]
     },
     "execution_count": 73,
     "metadata": {},
     "output_type": "execute_result"
    }
   ],
   "source": [
    "diffusion"
   ]
  },
  {
   "cell_type": "code",
   "execution_count": 75,
   "id": "87203c73",
   "metadata": {},
   "outputs": [],
   "source": [
    "#Calculaing Diffusion manually at edges\n",
    "center_left_u = np.array([u[0][1][-1], u[0][1][0], u[0][1][1]])\n",
    "dif_left = center_left_u * diffusion_multipliers * (1/(2*dx))\n",
    "dif_left_sum = sum(dif_left)\n",
    "diffusion[0] = dif_left_sum\n",
    "\n",
    "center_right_u = np.array([u[0][1][-2], u[0][1][-1], u[0][1][0]])\n",
    "dif_right = center_right_u * diffusion_multipliers * (1/(2*dx))\n",
    "dif_right_sum = sum(dif_right)\n",
    "diffusion[0] = dif_right_sum"
   ]
  },
  {
   "cell_type": "code",
   "execution_count": 76,
   "id": "3b3fc53e",
   "metadata": {},
   "outputs": [],
   "source": [
    "#calculating u at time (j+1)\n",
    "u[1][1] = u[0][1] + dt * (advection + diffusion)"
   ]
  },
  {
   "cell_type": "code",
   "execution_count": null,
   "id": "5e236230",
   "metadata": {},
   "outputs": [],
   "source": []
  },
  {
   "cell_type": "code",
   "execution_count": null,
   "id": "18142dc2",
   "metadata": {},
   "outputs": [],
   "source": []
  },
  {
   "cell_type": "code",
   "execution_count": null,
   "id": "40a11905",
   "metadata": {},
   "outputs": [],
   "source": [
    "#wx< 0\n",
    "\n",
    "#Coefs from finite difference\n",
    "diffusion_multipliers = np.array([1,-2,1,0])\n",
    "advection_multipliers = np.array([0,-3,4,-1])\n",
    "\n",
    "#Masking values in current timestep where c > 0\n",
    "c_mask = np.where(wx[0][1]<0, u[0][1], 0)\n",
    "u_mask = c_mask * u\n",
    "\n",
    "#Creating sliding window to calculate advection and diffusion at each spatial position \n",
    "u_win = rolling_window(u_mask[0][1],4)\n",
    "w_win = rolling_window(w[0][1],4)\n",
    "\n",
    "#Calculating advection\n",
    "advec_broad = np.broadcast(u_win,w_win,advection_multipliers)\n",
    "advec = np.empty(advec_broad.shape)\n",
    "advec.flat = [-t*u*v/(2*dx) for (t,u,v) in advec_broad]\n",
    "advection_neg_c = np.sum(advec, axis = 1)\n",
    "\n",
    "#Calculating diffusion\n",
    "dif_broad = np.broadcast(u_win,diffusion_multipliers)\n",
    "dif = np.empty(dif_broad.shape)\n",
    "dif.flat = [u*v/(2*dx) for (u,v) in dif_broad]\n",
    "diffusion_neg_c= np.sum(dif, axis = 1)"
   ]
  },
  {
   "cell_type": "code",
   "execution_count": 78,
   "id": "ea33d235",
   "metadata": {},
   "outputs": [
    {
     "name": "stdout",
     "output_type": "stream",
     "text": [
      "[1. 2. 3. 4. 5. 6. 5. 4. 3. 2. 1.]\n",
      "[1.0034746  1.99336847 2.998102   4.0001039  5.00106537 5.99178283\n",
      " 4.99892416 3.99862525 3.00348861 1.99281067 0.99756046]\n"
     ]
    }
   ],
   "source": [
    "print(u[0][1])\n",
    "print(u[1][1])"
   ]
  },
  {
   "cell_type": "code",
   "execution_count": 77,
   "id": "107e3f3b",
   "metadata": {},
   "outputs": [
    {
     "data": {
      "text/plain": [
       "<function matplotlib.pyplot.show(close=None, block=None)>"
      ]
     },
     "execution_count": 77,
     "metadata": {},
     "output_type": "execute_result"
    },
    {
     "data": {
      "image/png": "[encoded data removed]",
      "text/plain": [
       "<Figure size 640x480 with 1 Axes>"
      ]
     },
     "metadata": {},
     "output_type": "display_data"
    }
   ],
   "source": [
    "plt.plot(Xs, u[0][1])\n",
    "plt.plot(Xs, u[1][1])\n",
    "plt.show"
   ]
  },
  {
   "cell_type": "code",
   "execution_count": null,
   "id": "11c7cfb6",
   "metadata": {},
   "outputs": [],
   "source": []
  },
  {
   "cell_type": "code",
   "execution_count": null,
   "id": "fefe06e4",
   "metadata": {},
   "outputs": [],
   "source": []
  }
 ],
 "metadata": {
  "hide_input": false,
  "kernelspec": {
   "display_name": "Python 3 (ipykernel)",
   "language": "python",
   "name": "python3"
  },
  "language_info": {
   "codemirror_mode": {
    "name": "ipython",
    "version": 3
   },
   "file_extension": ".py",
   "mimetype": "text/x-python",
   "name": "python",
   "nbconvert_exporter": "python",
   "pygments_lexer": "ipython3",
   "version": "3.9.13"
  }
 },
 "nbformat": 4,
 "nbformat_minor": 5
}
