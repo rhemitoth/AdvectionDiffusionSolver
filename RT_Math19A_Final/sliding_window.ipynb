{
 "cells": [
  {
   "cell_type": "code",
   "execution_count": 21,
   "id": "15fa28c7",
   "metadata": {},
   "outputs": [],
   "source": [
    "import numpy as np\n",
    "import numpy.lib.stride_tricks\n",
    "import math"
   ]
  },
  {
   "cell_type": "code",
   "execution_count": 14,
   "id": "ab9ecb59",
   "metadata": {},
   "outputs": [],
   "source": [
    "u = np.zeros((2,2,10))\n",
    "w = np.zeros((1,2,10))"
   ]
  },
  {
   "cell_type": "code",
   "execution_count": 25,
   "id": "68642b18",
   "metadata": {},
   "outputs": [],
   "source": [
    "#Custom Functions\n",
    "\n",
    "#Trapezoid Integration Function\n",
    "def integrate(u,dx,x_vals):\n",
    "    area_under_curve = 0\n",
    "    for i in range(0,len(x_vals)-1):\n",
    "        area = dx * (u[i+1]+u[i]) / 2\n",
    "        area_under_curve = area_under_curve + area\n",
    "    return area_under_curve\n",
    "\n",
    "#Gaussian Function\n",
    "def gaussian(x, mu, sigma):\n",
    "    denom = sigma * ((2 * math.pi)**0.5)\n",
    "    numerator = math.exp(((x - mu)**2) / ((sigma) **2) / -2)\n",
    "    res = numerator / denom\n",
    "    return res\n",
    "\n",
    "# Habitat Preference\n",
    "def preference(x):\n",
    "    pi = math.pi\n",
    "    res = -math.cos(pi*x/5) + 1.1 \n",
    "    res = np.float64(res)\n",
    "    return res\n",
    "\n",
    "# 1st Derivative of Habitat Preference Function\n",
    "def preference_slope(x):\n",
    "    pi = math.pi\n",
    "    res = pi/5*math.sin(pi*x/5)\n",
    "    res = np.float64(res)\n",
    "    return res\n",
    "\n",
    "# 2nd Derivative of Habitat Preference Function\n",
    "def preference_slope_slope(x):\n",
    "    pi = math.pi\n",
    "    res = (2*pi*pi/625) * math.cos(2*pi*x/25)# Example 1\n",
    "    #res = -0.02 * ((-0.02 * math.exp(-0.01*(x-50)**2)*(x-50))*(x-50)+1*math.exp(-0.01*(x-50)**2)) # Example 2\n",
    "    res = np.float64(res)\n",
    "    return res\n",
    "\n",
    "#Normalized RMSE\n",
    "\n",
    "def rmse(model, true, nx, t):\n",
    "    summation = 0\n",
    "    for i in range(0,nx):\n",
    "        dif = (model[t][1][i] - true[0][1][i])**2\n",
    "        summation = summation + dif\n",
    "    rmse = (summation/nx)**0.5\n",
    "    return abs(rmse)\n",
    "\n",
    "#Convergence Flag\n",
    "\n",
    "def converge(current_t, t_minus1000, t_minus2000):\n",
    "    #function to determine whether finite difference scheme has convered\n",
    "    #inputs are rows of an array\n",
    "    current_t = np.float128(current_t ** 0.01)\n",
    "    t_minus50 = np.float128(t_minus1000 ** 0.01)\n",
    "    t_minus100 = np.float128(t_minus2000 ** 0.01)\n",
    "    h1 = abs(t_minus1000 - t_minus2000)\n",
    "    print(h1)\n",
    "    h2 = abs(current_t - t_minus1000)\n",
    "    print(h2)\n",
    "    dif = abs(h1-h2)\n",
    "    print(dif)\n",
    "    cuttoff = np.format_float_scientific(np.float128(1e-128), unique=False, precision=128)\n",
    "    mask = dif>np.float128(cuttoff)\n",
    "    print(mask)\n",
    "    if True not in mask:\n",
    "        print(\"yes\")\n",
    "        return True\n",
    "    \n",
    "#Sliding window\n",
    "def rolling_window(a, window):\n",
    "    shape = a.shape[:-1] + (a.shape[-1] - window + 1, window)\n",
    "    strides = a.strides + (a.strides[-1],)\n",
    "    return np.lib.stride_tricks.as_strided(a, shape=shape, strides=strides)\n",
    "        \n",
    "    "
   ]
  },
  {
   "cell_type": "code",
   "execution_count": 45,
   "id": "217119f6",
   "metadata": {},
   "outputs": [],
   "source": [
    "# Initializing x values where u(x,t) will be calculated\n",
    "dx = 1\n",
    "Xs = np.arange(0, 11, dx)\n",
    "\n",
    "# Initializing array with Nt row, Nx columns, and [x,u(x,t)] per cell\n",
    "u = np.zeros((2, 2, len(Xs)))\n",
    "\n",
    "#Habitat Preference Function\n",
    "w = np.zeros((1,2,len(Xs)))\n",
    "w[0][0] = Xs\n",
    "for i in range(0,len(Xs)):\n",
    "    w[0][1][i] = preference(w[0][0][i])\n",
    "\n",
    "#First Spatial Derivative of Habitat Preference Function\n",
    "wx = np.zeros((1,2,len(Xs)))\n",
    "wx[0][0] = Xs\n",
    "for i in range(0,len(Xs)):\n",
    "    wx[0][1][i] = preference_slope(w[0][0][i])\n",
    "\n",
    "#Second Spatial Derivative of Habitat Preference Function\n",
    "wxx = np.zeros((1,2,len(Xs)))\n",
    "wxx[0][0] = Xs\n",
    "for i in range(0,len(Xs)):\n",
    "    wxx[0][1][i] = preference_slope_slope(w[0][0][i])\n",
    "    \n",
    "# Populating x values in array u\n",
    "for j in range(0, 2):\n",
    "    u[j][0]=Xs\n",
    "    \n",
    "# Setting Initial Condition\n",
    "IC=[1,2,3,4,5,6,5,4,3,2,1]\n",
    "u[0][1] = IC # Populating initial condition in array u"
   ]
  },
  {
   "cell_type": "code",
   "execution_count": 41,
   "id": "1ae1e2eb",
   "metadata": {},
   "outputs": [
    {
     "name": "stdout",
     "output_type": "stream",
     "text": [
      "[[[ 0.  1.  2.  3.  4.  5.  6.  7.  8.  9. 10.]\n",
      "  [ 1.  2.  3.  4.  5.  6.  5.  4.  3.  2.  1.]]\n",
      "\n",
      " [[ 0.  1.  2.  3.  4.  5.  6.  7.  8.  9. 10.]\n",
      "  [ 0.  0.  0.  0.  0.  0.  0.  0.  0.  0.  0.]]]\n",
      "[[[ 0.          1.          2.          3.          4.\n",
      "    5.          6.          7.          8.          9.\n",
      "   10.        ]\n",
      "  [ 0.1         0.29098301  0.79098301  1.40901699  1.90901699\n",
      "    2.1         1.90901699  1.40901699  0.79098301  0.29098301\n",
      "    0.1       ]]]\n"
     ]
    }
   ],
   "source": [
    "print(u)\n",
    "print(w)"
   ]
  },
  {
   "cell_type": "code",
   "execution_count": 76,
   "id": "e1c7429a",
   "metadata": {},
   "outputs": [],
   "source": [
    "\n",
    "advection_multipliers = np.array([-1,0,1])\n",
    "diffusion_multipliers = np.array([1,-2,1])\n",
    "u_win = rolling_window(u[0][1],3)\n",
    "w_win = rolling_window(w[0][1],3)\n",
    "\n",
    "advec_broad = np.broadcast(u_win,w_win,advection_multipliers)\n",
    "advec = np.empty(advec_broad.shape)\n",
    "advec.flat = [-t*u*v/(2*dx) for (t,u,v) in advec_broad]\n",
    "\n",
    "dif_broad = np.broadcast(u_win,diffusion_multipliers)\n",
    "dif = np.empty(dif_broad.shape)\n",
    "dif.flat = [u*v/(2*dx) for (u,v) in dif_broad]\n"
   ]
  },
  {
   "cell_type": "code",
   "execution_count": 77,
   "id": "40a11905",
   "metadata": {},
   "outputs": [
    {
     "data": {
      "text/plain": [
       "array([[ 0.05      , -0.        , -1.18647451],\n",
       "       [ 0.29098301, -0.        , -2.81803399],\n",
       "       [ 1.18647451, -0.        , -4.77254249],\n",
       "       [ 2.81803399, -0.        , -6.3       ],\n",
       "       [ 4.77254249, -0.        , -4.77254249],\n",
       "       [ 6.3       , -0.        , -2.81803399],\n",
       "       [ 4.77254249, -0.        , -1.18647451],\n",
       "       [ 2.81803399, -0.        , -0.29098301],\n",
       "       [ 1.18647451, -0.        , -0.05      ]])"
      ]
     },
     "execution_count": 77,
     "metadata": {},
     "output_type": "execute_result"
    }
   ],
   "source": [
    "advec"
   ]
  },
  {
   "cell_type": "code",
   "execution_count": 66,
   "id": "ea33d235",
   "metadata": {},
   "outputs": [
    {
     "data": {
      "text/plain": [
       "array([[1., 2., 3.],\n",
       "       [2., 3., 4.],\n",
       "       [3., 4., 5.],\n",
       "       [4., 5., 6.],\n",
       "       [5., 6., 5.],\n",
       "       [6., 5., 4.],\n",
       "       [5., 4., 3.],\n",
       "       [4., 3., 2.],\n",
       "       [3., 2., 1.]])"
      ]
     },
     "execution_count": 66,
     "metadata": {},
     "output_type": "execute_result"
    }
   ],
   "source": [
    "u_win"
   ]
  },
  {
   "cell_type": "code",
   "execution_count": 67,
   "id": "107e3f3b",
   "metadata": {},
   "outputs": [
    {
     "data": {
      "text/plain": [
       "array([[0.1       , 0.29098301, 0.79098301],\n",
       "       [0.29098301, 0.79098301, 1.40901699],\n",
       "       [0.79098301, 1.40901699, 1.90901699],\n",
       "       [1.40901699, 1.90901699, 2.1       ],\n",
       "       [1.90901699, 2.1       , 1.90901699],\n",
       "       [2.1       , 1.90901699, 1.40901699],\n",
       "       [1.90901699, 1.40901699, 0.79098301],\n",
       "       [1.40901699, 0.79098301, 0.29098301],\n",
       "       [0.79098301, 0.29098301, 0.1       ]])"
      ]
     },
     "execution_count": 67,
     "metadata": {},
     "output_type": "execute_result"
    }
   ],
   "source": [
    "w_win"
   ]
  },
  {
   "cell_type": "code",
   "execution_count": null,
   "id": "11c7cfb6",
   "metadata": {},
   "outputs": [],
   "source": []
  }
 ],
 "metadata": {
  "hide_input": false,
  "kernelspec": {
   "display_name": "Python 3 (ipykernel)",
   "language": "python",
   "name": "python3"
  },
  "language_info": {
   "codemirror_mode": {
    "name": "ipython",
    "version": 3
   },
   "file_extension": ".py",
   "mimetype": "text/x-python",
   "name": "python",
   "nbconvert_exporter": "python",
   "pygments_lexer": "ipython3",
   "version": "3.9.13"
  }
 },
 "nbformat": 4,
 "nbformat_minor": 5
}
