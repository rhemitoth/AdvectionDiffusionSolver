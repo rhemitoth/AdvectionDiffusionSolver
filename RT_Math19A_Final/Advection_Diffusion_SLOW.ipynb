{
 "cells": [
  {
   "cell_type": "code",
   "execution_count": 1,
   "id": "f3c9f5da",
   "metadata": {},
   "outputs": [],
   "source": [
    "#Modules\n",
    "from matplotlib import pyplot as plt\n",
    "import numpy as np\n",
    "import math\n",
    "from celluloid import Camera"
   ]
  },
  {
   "cell_type": "code",
   "execution_count": 2,
   "id": "bbf0e77f",
   "metadata": {},
   "outputs": [],
   "source": [
    "#Custom Functions\n",
    "\n",
    "#Trapezoid Integration Function\n",
    "def integrate(u,dx,x_vals):\n",
    "    area_under_curve = 0\n",
    "    for i in range(0,len(x_vals)-1):\n",
    "        area = dx * (u[i+1]+u[i]) / 2\n",
    "        area_under_curve = area_under_curve + area\n",
    "    return area_under_curve\n",
    "\n",
    "#Gaussian Function\n",
    "def gaussian(x, mu, sigma):\n",
    "    denom = sigma * ((2 * math.pi)**0.5)\n",
    "    numerator = math.exp(((x - mu)**2) / ((sigma) **2) / -2)\n",
    "    res = numerator / denom\n",
    "    return res\n",
    "\n",
    "# Habitat Preference\n",
    "def preference(x):\n",
    "    pi = math.pi\n",
    "    res = 0.1 + math.sin(2 * pi * x / 50) ** 2  # Example 1\n",
    "    #res = math.exp(-0.01*abs(x-50)**2) # Example 2\n",
    "    res = np.float64(res)\n",
    "    return res\n",
    "\n",
    "# 1st Derivative of Habitat Preference Function\n",
    "def preference_slope(x):\n",
    "    pi = math.pi\n",
    "    res = (2 * pi / 25) * math.cos(pi * x / 25) * math.sin(pi * x / 25)  # Example 1\n",
    "    #res = -0.02*math.exp(-0.01*(x-50)**2)*(x-50) # Example 2\n",
    "    res = np.float64(res)\n",
    "    return res\n",
    "\n",
    "# 2nd Derivative of Habitat Preference Function\n",
    "def preference_slope_slope(x):\n",
    "    pi = math.pi\n",
    "    res = (2*pi*pi/625) * math.cos(2*pi*x/25)# Example 1\n",
    "    #res = -0.02 * ((-0.02 * math.exp(-0.01*(x-50)**2)*(x-50))*(x-50)+1*math.exp(-0.01*(x-50)**2)) # Example 2\n",
    "    res = np.float64(res)\n",
    "    return res\n",
    "\n",
    "#Normalized RMSE\n",
    "\n",
    "def rmse(model, true, nx, t):\n",
    "    summation = 0\n",
    "    for i in range(0,nx):\n",
    "        dif = (model[t][1][i] - true[0][1][i])**2\n",
    "        summation = summation + dif\n",
    "    rmse = (summation/nx)**0.5\n",
    "    return abs(rmse)\n",
    "\n",
    "#Convergence Flag\n",
    "\n",
    "def converge(current_t, t_minus1000, t_minus2000):\n",
    "    #function to determine whether finite difference scheme has convered\n",
    "    #inputs are rows of an array\n",
    "    current_t = np.float128(current_t ** 0.01)\n",
    "    t_minus50 = np.float128(t_minus1000 ** 0.01)\n",
    "    t_minus100 = np.float128(t_minus2000 ** 0.01)\n",
    "    h1 = abs(t_minus1000 - t_minus2000)\n",
    "    print(h1)\n",
    "    h2 = abs(current_t - t_minus1000)\n",
    "    print(h2)\n",
    "    dif = abs(h1-h2)\n",
    "    print(dif)\n",
    "    cuttoff = np.format_float_scientific(np.float128(1e-128), unique=False, precision=128)\n",
    "    mask = dif>np.float128(cuttoff)\n",
    "    print(mask)\n",
    "    if True not in mask:\n",
    "        print(\"yes\")\n",
    "        return True\n",
    "        \n",
    "    "
   ]
  },
  {
   "cell_type": "code",
   "execution_count": 3,
   "id": "70c9e7bc",
   "metadata": {},
   "outputs": [
    {
     "name": "stdout",
     "output_type": "stream",
     "text": [
      "[[0 0 0]\n",
      " [0 0 0]\n",
      " [0 0 0]]\n",
      "[0 0 0]\n",
      "[0. 0. 0.]\n",
      "[0. 0. 0.]\n",
      "[False False False]\n",
      "yes\n"
     ]
    },
    {
     "data": {
      "text/plain": [
       "True"
      ]
     },
     "execution_count": 3,
     "metadata": {},
     "output_type": "execute_result"
    }
   ],
   "source": [
    "a = np.array([[0,0,0],[0,0,0],[0,0,0]])\n",
    "print(a)\n",
    "converge(a[2],a[1],a[0])"
   ]
  },
  {
   "cell_type": "code",
   "execution_count": 4,
   "id": "7fb3911f",
   "metadata": {},
   "outputs": [],
   "source": [
    "#Model Settings\n",
    "\n",
    "# Bounds\n",
    "start = 0 # start bound\n",
    "stop = 10 # stop bound\n",
    "\n",
    "\n",
    "# Model parameters\n",
    "dt = 1 # delta t\n",
    "dx = 1  # delta x\n",
    "T = 10 # Total time\n",
    "Nt = int(T / dt)  # Number of time steps\n",
    "Nx = int((abs(stop-start))/dx)  # Number of x steps\n",
    "mean_sl = 0.04 #mean step length\n",
    "k = (mean_sl**2)/2/dt # diffusion coefficient equal to mean step length squared\n",
    "r = k * dt / dx / dx  # Fourier number\n",
    "\n",
    "# Fourier Number Flag\n",
    "if r > 0.5:\n",
    "    print(\"Fourier Number \" + str(r) +  \" > 0.5. Adjust mean step length, dx, or dt\")"
   ]
  },
  {
   "cell_type": "code",
   "execution_count": 5,
   "id": "8e2dc1de",
   "metadata": {},
   "outputs": [],
   "source": [
    "# Initializing x values where u(x,t) will be calculated\n",
    "Xs = np.arange(start, stop + dx, dx)\n",
    "\n",
    "# Initializing array with Nt row, Nx columns, and [x,u(x,t)] per cell\n",
    "u = np.zeros((Nt, 2, len(Xs)))\n",
    "\n",
    "#Habitat Preference Function\n",
    "w = np.zeros((1,2,len(Xs)))\n",
    "w[0][0] = Xs\n",
    "for i in range(0,len(Xs)):\n",
    "    w[0][1][i] = preference(w[0][0][i])\n",
    "\n",
    "#First Spatial Derivative of Habitat Preference Function\n",
    "wx = np.zeros((1,2,len(Xs)))\n",
    "wx[0][0] = Xs\n",
    "for i in range(0,len(Xs)):\n",
    "    wx[0][1][i] = preference_slope(w[0][0][i])\n",
    "\n",
    "#Second Spatial Derivative of Habitat Preference Function\n",
    "wxx = np.zeros((1,2,len(Xs)))\n",
    "wxx[0][0] = Xs\n",
    "for i in range(0,len(Xs)):\n",
    "    wxx[0][1][i] = preference_slope_slope(w[0][0][i])\n",
    "    \n",
    "# Populating x values in array u\n",
    "for j in range(0, Nt):\n",
    "    u[j][0]=Xs"
   ]
  },
  {
   "cell_type": "code",
   "execution_count": 6,
   "id": "b8741cc2",
   "metadata": {},
   "outputs": [],
   "source": [
    "#Approximating the steady state space use\n",
    "\n",
    "w0 = integrate(u = (w[0][1]**2),\n",
    "               dx = dx,\n",
    "               x_vals = Xs)\n",
    "steady_state_u = np.zeros((1,2,len(Xs)))\n",
    "steady_state_u[0][0] = Xs\n",
    "steady_state_u[0][1] = (w[0][1]**2)/w0"
   ]
  },
  {
   "cell_type": "code",
   "execution_count": 10,
   "id": "f44f2d06",
   "metadata": {},
   "outputs": [
    {
     "data": {
      "image/png": "[encoded data removed]",
      "text/plain": [
       "<Figure size 640x480 with 1 Axes>"
      ]
     },
     "metadata": {},
     "output_type": "display_data"
    }
   ],
   "source": []
  },
  {
   "cell_type": "code",
   "execution_count": 13,
   "id": "daa313df",
   "metadata": {},
   "outputs": [],
   "source": [
    "# Setting Initial Condition\n",
    "IC=[]\n",
    "for i in range(0, len(Xs)):\n",
    "    x = Xs[i]\n",
    "    res = gaussian(x = x,\n",
    "                   mu = 5,\n",
    "                   sigma = 0.5) # Gaussin IC\n",
    "    res = np.float64(res)\n",
    "    IC.append(res)\n",
    "u[0][1] = IC # Populating initial condition in array u"
   ]
  },
  {
   "cell_type": "code",
   "execution_count": 14,
   "id": "26e61b98",
   "metadata": {},
   "outputs": [
    {
     "data": {
      "image/png": "[encoded data removed]",
      "text/plain": [
       "<Figure size 640x480 with 1 Axes>"
      ]
     },
     "metadata": {},
     "output_type": "display_data"
    }
   ],
   "source": [
    "plt.plot(Xs,u[0][1])\n",
    "plt.show()"
   ]
  },
  {
   "cell_type": "code",
   "execution_count": 8,
   "id": "962ac03d",
   "metadata": {},
   "outputs": [
    {
     "ename": "IndexError",
     "evalue": "index 10 is out of bounds for axis 0 with size 10",
     "output_type": "error",
     "traceback": [
      "\u001b[0;31m---------------------------------------------------------------------------\u001b[0m",
      "\u001b[0;31mIndexError\u001b[0m                                Traceback (most recent call last)",
      "\u001b[0;32m/var/folders/bp/jpzs1ydd4dj8jj8kv5fx8wq80000gn/T/ipykernel_39769/1123017450.py\u001b[0m in \u001b[0;36m<module>\u001b[0;34m\u001b[0m\n\u001b[1;32m      1\u001b[0m \u001b[0;32mfor\u001b[0m \u001b[0mj\u001b[0m \u001b[0;32min\u001b[0m \u001b[0mrange\u001b[0m\u001b[0;34m(\u001b[0m\u001b[0;36m0\u001b[0m\u001b[0;34m,\u001b[0m\u001b[0;36m100\u001b[0m\u001b[0;34m)\u001b[0m\u001b[0;34m:\u001b[0m\u001b[0;34m\u001b[0m\u001b[0;34m\u001b[0m\u001b[0m\n\u001b[1;32m      2\u001b[0m     \u001b[0;31m#Masking u at current time step based on sign of velocity at point\u001b[0m\u001b[0;34m\u001b[0m\u001b[0;34m\u001b[0m\u001b[0m\n\u001b[0;32m----> 3\u001b[0;31m     \u001b[0mneg_c\u001b[0m \u001b[0;34m=\u001b[0m \u001b[0mnp\u001b[0m\u001b[0;34m.\u001b[0m\u001b[0mwhere\u001b[0m\u001b[0;34m(\u001b[0m\u001b[0mwx\u001b[0m\u001b[0;34m[\u001b[0m\u001b[0;36m0\u001b[0m\u001b[0;34m]\u001b[0m\u001b[0;34m[\u001b[0m\u001b[0;36m1\u001b[0m\u001b[0;34m]\u001b[0m \u001b[0;34m>\u001b[0m \u001b[0;36m0\u001b[0m\u001b[0;34m,\u001b[0m \u001b[0mu\u001b[0m\u001b[0;34m[\u001b[0m\u001b[0mj\u001b[0m\u001b[0;34m]\u001b[0m\u001b[0;34m[\u001b[0m\u001b[0;36m1\u001b[0m\u001b[0;34m]\u001b[0m\u001b[0;34m,\u001b[0m\u001b[0;36m0\u001b[0m\u001b[0;34m)\u001b[0m\u001b[0;34m\u001b[0m\u001b[0;34m\u001b[0m\u001b[0m\n\u001b[0m\u001b[1;32m      4\u001b[0m     \u001b[0mpos_c\u001b[0m \u001b[0;34m=\u001b[0m \u001b[0mnp\u001b[0m\u001b[0;34m.\u001b[0m\u001b[0mwhere\u001b[0m\u001b[0;34m(\u001b[0m\u001b[0mwx\u001b[0m\u001b[0;34m[\u001b[0m\u001b[0;36m0\u001b[0m\u001b[0;34m]\u001b[0m\u001b[0;34m[\u001b[0m\u001b[0;36m1\u001b[0m\u001b[0;34m]\u001b[0m \u001b[0;34m<\u001b[0m \u001b[0;36m0\u001b[0m\u001b[0;34m,\u001b[0m \u001b[0mu\u001b[0m\u001b[0;34m[\u001b[0m\u001b[0mj\u001b[0m\u001b[0;34m]\u001b[0m\u001b[0;34m[\u001b[0m\u001b[0;36m1\u001b[0m\u001b[0;34m]\u001b[0m\u001b[0;34m,\u001b[0m\u001b[0;36m0\u001b[0m\u001b[0;34m)\u001b[0m\u001b[0;34m\u001b[0m\u001b[0;34m\u001b[0m\u001b[0m\n\u001b[1;32m      5\u001b[0m     \u001b[0mzero_c\u001b[0m \u001b[0;34m=\u001b[0m \u001b[0mnp\u001b[0m\u001b[0;34m.\u001b[0m\u001b[0mwhere\u001b[0m\u001b[0;34m(\u001b[0m\u001b[0mwx\u001b[0m\u001b[0;34m[\u001b[0m\u001b[0;36m0\u001b[0m\u001b[0;34m]\u001b[0m\u001b[0;34m[\u001b[0m\u001b[0;36m1\u001b[0m\u001b[0;34m]\u001b[0m \u001b[0;34m!=\u001b[0m \u001b[0;36m0\u001b[0m\u001b[0;34m,\u001b[0m \u001b[0mu\u001b[0m\u001b[0;34m[\u001b[0m\u001b[0mj\u001b[0m\u001b[0;34m]\u001b[0m\u001b[0;34m[\u001b[0m\u001b[0;36m1\u001b[0m\u001b[0;34m]\u001b[0m\u001b[0;34m,\u001b[0m\u001b[0;36m0\u001b[0m\u001b[0;34m)\u001b[0m\u001b[0;34m\u001b[0m\u001b[0;34m\u001b[0m\u001b[0m\n",
      "\u001b[0;31mIndexError\u001b[0m: index 10 is out of bounds for axis 0 with size 10"
     ]
    }
   ],
   "source": [
    "for j in range(0,100):\n",
    "    #Masking u at current time step based on sign of velocity at point\n",
    "    neg_c = np.where(wx[0][1] > 0, u[j][1],0)\n",
    "    pos_c = np.where(wx[0][1] < 0, u[j][1],0)\n",
    "    zero_c = np.where(wx[0][1] != 0, u[j][1],0)\n",
    "    \n",
    "\n"
   ]
  },
  {
   "cell_type": "code",
   "execution_count": 26,
   "id": "ac2c2da7",
   "metadata": {},
   "outputs": [
    {
     "name": "stdout",
     "output_type": "stream",
     "text": [
      "1.0  %\n",
      "2.0  %\n",
      "3.0  %\n",
      "4.0  %\n",
      "5.0  %\n",
      "6.0  %\n",
      "8.0  %\n",
      "9.0  %\n",
      "10.0  %\n",
      "11.0  %\n",
      "12.0  %\n",
      "13.0  %\n",
      "15.0  %\n",
      "16.0  %\n",
      "17.0  %\n",
      "18.0  %\n",
      "19.0  %\n",
      "20.0  %\n",
      "21.0  %\n",
      "22.0  %\n",
      "23.0  %\n",
      "24.0  %\n",
      "25.0  %\n",
      "26.0  %\n",
      "27.0  %\n",
      "30.0  %\n",
      "31.0  %\n",
      "32.0  %\n",
      "33.0  %\n",
      "34.0  %\n",
      "35.0  %\n",
      "36.0  %\n",
      "37.0  %\n",
      "38.0  %\n",
      "39.0  %\n",
      "40.0  %\n",
      "41.0  %\n",
      "42.0  %\n",
      "43.0  %\n",
      "44.0  %\n",
      "45.0  %\n",
      "46.0  %\n",
      "47.0  %\n",
      "48.0  %\n",
      "49.0  %\n",
      "50.0  %\n",
      "51.0  %\n",
      "52.0  %\n",
      "53.0  %\n",
      "54.0  %\n",
      "59.0  %\n",
      "60.0  %\n",
      "61.0  %\n",
      "62.0  %\n",
      "63.0  %\n",
      "64.0  %\n",
      "65.0  %\n",
      "66.0  %\n",
      "67.0  %\n",
      "68.0  %\n",
      "69.0  %\n",
      "70.0  %\n",
      "71.0  %\n",
      "72.0  %\n",
      "73.0  %\n",
      "74.0  %\n",
      "75.0  %\n",
      "76.0  %\n",
      "77.0  %\n",
      "78.0  %\n",
      "79.0  %\n",
      "80.0  %\n",
      "81.0  %\n",
      "82.0  %\n",
      "83.0  %\n",
      "84.0  %\n",
      "85.0  %\n",
      "86.0  %\n",
      "87.0  %\n",
      "88.0  %\n",
      "89.0  %\n",
      "90.0  %\n",
      "91.0  %\n",
      "92.0  %\n",
      "93.0  %\n",
      "94.0  %\n",
      "95.0  %\n",
      "96.0  %\n",
      "97.0  %\n",
      "98.0  %\n",
      "99.0  %\n",
      "100.0  %\n"
     ]
    }
   ],
   "source": [
    "#Finite Difference Scheme\n",
    "\n",
    "for j in range(0,Nt-1):\n",
    "    for i in range(0,Nx-1):\n",
    "        \n",
    "        #Defining velocity at u[i], u[i-1], u[i-2],u[i+1],and u[i+2]\n",
    "        \n",
    "        c_x = (mean_sl**2) * wx[0][1][i] / w[0][1][i] / dt \n",
    "        cx_x = (mean_sl**2)/dt * (wxx[0][1][i]*w[0][1][i]-wx[0][1][i]**2) / (w[0][1][i]**2)\n",
    "  \n",
    "        if i == 0:\n",
    "            \n",
    "            c_xminus1 = (mean_sl**2) * wx[0][1][-1] / w[0][1][-1] / dt\n",
    "            c_xminus2 = (mean_sl**2) * wx[0][1][-2] / w[0][1][-2] / dt\n",
    "            \n",
    "        elif i == 1:\n",
    "            \n",
    "            c_xminus1 = (mean_sl ** 2) * wx[0][1][0] / w[0][1][0] / dt\n",
    "            c_xminus2 = (mean_sl ** 2) * wx[0][1][-1] / w[0][1][-1] / dt\n",
    "            \n",
    "        else:\n",
    "            \n",
    "            c_xminus1 = (mean_sl ** 2) * wx[0][1][i-1] / w[0][1][i-1] / dt\n",
    "            c_xminus2 = (mean_sl ** 2) * wx[0][1][i-2] / w[0][1][i-2] / dt\n",
    "            \n",
    "        if i == Nt:\n",
    "            \n",
    "            c_xplus1 = (mean_sl**2) * wx[0][1][0] / w[0][1][0] / dt\n",
    "            c_xplus2 = (mean_sl**2) * wx[0][1][1] / w[0][1][1] / dt\n",
    "            \n",
    "        elif i == (Nt - 1):\n",
    "            \n",
    "            c_xplus1 = (mean_sl ** 2) * wx[0][1][-1] / w[0][1][-1] / dt\n",
    "            c_xplus2 = (mean_sl ** 2) * wx[0][1][0] / w[0][1][0] / dt\n",
    "            \n",
    "        else:\n",
    "            \n",
    "            c_xplus1 = (mean_sl ** 2) * wx[0][1][i+1] / w[0][1][i+1] / dt\n",
    "            c_xplus2 = (mean_sl ** 2) * wx[0][1][i+2] / w[0][1][i+2] / dt\n",
    "  \n",
    "        \n",
    "        #Calcutlting u(x) at future timesteps\n",
    "        \n",
    "        \n",
    "        if c_x > 0 and c_xminus1 > 0 and c_xminus2 > 0:\n",
    "            if i == 0:\n",
    "                \n",
    "                diffusion = r * (u[j][1][i + 1] - 2 * u[j][1][i] + u[j][1][Nx])\n",
    "                advection = -dt*(cx_x*u[j][1][i] + (1/(2*dx))*(3* c_x * u[j][1][i] - 4 * c_xminus1 * u[j][1][Nx] + c_xminus2 * u[j][1][Nx-1]))\n",
    "               \n",
    "                \n",
    "                u[j + 1][1][i] = u[j][1][i] + diffusion + advection\n",
    "                \n",
    "            elif i == 1:\n",
    "                \n",
    "                diffusion = r * (u[j][1][i + 1] - 2 * u[j][1][i] + u[j][1][i - 1])\n",
    "                advection = -dt*(cx_x*u[j][1][i] + (1/(2*dx))*(3* c_x * u[j][1][i] - 4 * c_xminus1 * u[j][1][i-1] + c_xminus2 * u[j][1][Nx]))\n",
    "                \n",
    "                u[j + 1][1][i] = u[j][1][i] + diffusion + advection\n",
    "            \n",
    "            else:\n",
    "                \n",
    "                diffusion = r * (u[j][1][i + 1] - 2 * u[j][1][i] + u[j][1][i - 1])\n",
    "                advection = -dt*(cx_x*u[j][1][i] + (1/(2*dx))*(3* c_x * u[j][1][i] - 4 * c_xminus1 * u[j][1][i-1] + c_xminus2 * u[j][1][i-2])) \n",
    "                \n",
    "                u[j + 1][1][i] = u[j][1][i] + diffusion + advection \n",
    "        \n",
    "        elif c_x < 0 and c_xplus1 < 0 and c_xplus2 < 0:\n",
    "            if i == Nx:\n",
    "                \n",
    "                diffusion = r * (u[j][1][0] - 2 * u[j][1][i] + u[j][1][i - 1])\n",
    "                advection = -dt*(cx_x*u[j][1][i] + (1/(2*dx))*(-c_xplus2 * u[j][1][1] +4 * c_xplus1 * u[j][1][0] - 3 * c_x * u[j][1][i])) \n",
    "               \n",
    "                u[j + 1][1][i] = u[j][1][i] + diffusion + advection\n",
    "                \n",
    "            elif i == (Nx-1):\n",
    "                \n",
    "                diffusion = r * (u[j][1][i + 1] - 2 * u[j][1][i] + u[j][1][i - 1])\n",
    "                advection = -dt*(cx_x*u[j][1][i] + (1/(2*dx))*(-c_xplus2 * u[j][1][0] +4 * c_xplus1 * u[j][1][i+1] - 3 * c_x * u[j][1][i]))\n",
    "                \n",
    "                u[j + 1][1][i] = u[j][1][i] + diffusion + advection \n",
    "           \n",
    "            else:\n",
    "                \n",
    "                diffusion = r * (u[j][1][i + 1] - 2 * u[j][1][i] + u[j][1][i - 1])\n",
    "                advection = -dt*(cx_x*u[j][1][i] + (1/(2*dx))*(-c_xplus2 * u[j][1][i+2] +4 * c_xplus1 * u[j][1][i+1] - 3 * c_x * u[j][1][i]))\n",
    "                \n",
    "                u[j + 1][1][i] = u[j][1][i] + diffusion + advection \n",
    "       \n",
    "    else:\n",
    "        if i == 0:\n",
    "            diffusion = r * (u[j][1][i + 1] - 2 * u[j][1][i] + u[j][1][-1])\n",
    "            advection = -dt*(cx_x*u[j][1][i] + (1/(2*dx))*(c_xplus1 * u[j][1][i + 1] - c_xminus1 * u[j][1][-1]))\n",
    "                    \n",
    "            u[j + 1][1][i] = u[j][1][i] + diffusion + advection \n",
    "        \n",
    "        elif i == Nx:\n",
    "            \n",
    "            diffusion = r * (u[j][1][0] - 2 * u[j][1][i] + u[j][1][i - 1])\n",
    "            advection = -dt*(cx_x*u[j][1][i] + (1/(2*dx))*(c_xplus1 * u[j][1][0] - c_xminus1 * u[j][1][i-1]))\n",
    "                    \n",
    "            u[j + 1][1][i] = u[j][1][i] + diffusion + advection \n",
    "\n",
    "        else:\n",
    "            \n",
    "            diffusion = r * (u[j][1][i + 1] - 2 * u[j][1][i] + u[j][1][i - 1])\n",
    "            advection = -dt*(cx_x*u[j][1][i] + (1/(2*dx))*(c_xplus1 * u[j][1][i+1] - c_xminus1 * u[j][1][i-1]))\n",
    "                    \n",
    "            u[j + 1][1][i] = u[j][1][i] + diffusion + advection \n",
    "\n",
    "    \n",
    "    area = integrate(u = u[j + 1][1],\n",
    "                     dx = dx,\n",
    "                     x_vals = Xs)\n",
    "    u[j+1][1] = u[j+1][1]/area\n",
    "    \n",
    "    percent_comp = ((j+2)/(Nt))*100\n",
    "    if ( percent_comp % 1 == 0):\n",
    "        print(str(percent_comp),\" %\")\n",
    "    if(percent_comp % 10 == 0):\n",
    "        filename = \"/Users/rhemitoth/Documents/Fall 2022/Math 19a/finalproject/RT_Math19A_Final/np_checkpoints/checkpoint{var}\".format(var = str(percent_comp))\n",
    "        np.save(filename, u)\n",
    "    if j >= 2000:\n",
    "        converge_YN = converge(current_t = u[j][1],\n",
    "                              t_minus1000 = u[j-1000][1],\n",
    "                              t_minus2000 = u[j-2000][1])\n",
    "        if converge_YN == True:\n",
    "            print(\"Model Converged\")\n",
    "            break\n",
    "    \n"
   ]
  },
  {
   "cell_type": "code",
   "execution_count": 163,
   "id": "3dcfa2f9",
   "metadata": {},
   "outputs": [
    {
     "name": "stdout",
     "output_type": "stream",
     "text": [
      "Root Mean Squared Error = 0.09784102417398448\n"
     ]
    }
   ],
   "source": [
    "#Normalized Root Mean Squared Error\n",
    "error = rmse(model = u,\n",
    "           true = steady_state_u,\n",
    "           nx = Nx,\n",
    "           t = Nt-1)\n",
    "\n",
    "print(\"Root Mean Squared Error = \" + str(error))"
   ]
  },
  {
   "cell_type": "code",
   "execution_count": 155,
   "id": "99784771",
   "metadata": {},
   "outputs": [
    {
     "name": "stdout",
     "output_type": "stream",
     "text": [
      "1.0000000000000013\n"
     ]
    }
   ],
   "source": [
    "#Checking for conservation\n",
    "\n",
    "res = integrate(u = u[Nt-1][1],\n",
    "              dx = dx,\n",
    "              x_vals = Xs)\n",
    "print(res)"
   ]
  },
  {
   "cell_type": "code",
   "execution_count": 156,
   "id": "afbbd4f6",
   "metadata": {},
   "outputs": [
    {
     "data": {
      "image/png": "[encoded data removed]",
      "text/plain": [
       "<Figure size 640x480 with 1 Axes>"
      ]
     },
     "metadata": {},
     "output_type": "display_data"
    }
   ],
   "source": [
    "# Animation\n",
    "fig1, ax1 = plt.subplots()\n",
    "camera = Camera(fig1)\n",
    "for i in range(Nt):\n",
    "    Ys= u[i][1]\n",
    "    if i%500 == 0:\n",
    "        if i == 0:\n",
    "            ax1.plot(w[0][0], w[0][1], color = \"#5a5a5a\", label = \"w(x)\", linestyle = \"dashed\")\n",
    "            x = ax1.plot(Xs, Ys, color=\"#959e19\", label=\"u(x,t)\")\n",
    "            y = ax1.plot(Xs,steady_state_u[0][1], color = 'black', linestyle = 'dotted', label = \"steady state u(x,t)\")\n",
    "        else:\n",
    "            ax1.plot(w[0][0], w[0][1], color=\"#5a5a5a\", linestyle=\"dashed\")\n",
    "            x = ax1.plot(Xs, Ys, color=\"#959e19\")\n",
    "            y = ax1.plot(Xs, steady_state_u[0][1], color='black', linestyle='dotted')\n",
    "        ax1.legend(loc=\"upper right\")\n",
    "\n",
    "        camera.snap()\n",
    "animation = camera.animate()\n",
    "animation.save('AdvectionDiffusion_CDA.mp4', writer = 'ffmpeg')"
   ]
  },
  {
   "cell_type": "code",
   "execution_count": 157,
   "id": "5d0a977b",
   "metadata": {},
   "outputs": [
    {
     "data": {
      "image/png": "[encoded data removed]",
      "text/plain": [
       "<Figure size 640x480 with 1 Axes>"
      ]
     },
     "metadata": {},
     "output_type": "display_data"
    }
   ],
   "source": [
    "# Plot\n",
    "fig2 = plt.figure()\n",
    "t0 = u[0][1]\n",
    "t1 = u[int(0.2*Nt)][1]\n",
    "t2 = u[int(0.4*Nt)][1]\n",
    "t3 = u[int(0.6*Nt)][1]\n",
    "t4 = u[int(0.8*Nt)][1]\n",
    "t5 = u[int(Nt-1)][1]\n",
    "plt.plot(Xs,w[0][1], color = \"#5a5a5a\", label = r\"$w(x)$\", linestyle = \"dashed\")\n",
    "plt.plot(Xs,t0, label = r'$u(x,0)$', color = \"#003f5c\" )\n",
    "plt.plot(Xs,t1, label = fr'$u(x,{int(0.2*Nt)})$', color = \"#444e86\")\n",
    "plt.plot(Xs,t2, label = fr'$u(x,{int(0.4*Nt)})$', color = \"#955196\")\n",
    "plt.plot(Xs,t3, label = fr'$u(x,{int(0.6*Nt)})$', color = \"#dd5182\")\n",
    "plt.plot(Xs,t4, label = fr'$u(x,{int(0.8*Nt)})$', color = \"#ff6e54\")\n",
    "plt.plot(Xs,t5, label =fr'$u(x,{int(Nt-1)})$', color = \"#ffa600\")\n",
    "plt.plot(Xs,steady_state_u[0][1], color = 'black', linestyle = 'dotted', label = r\"$u^{*}(x)$\")\n",
    "plt.legend(loc=\"upper right\")\n",
    "plt.savefig(\"AdvectionDiffusion.png\", dpi = 350)\n",
    "plt.show()\n",
    "\n"
   ]
  }
 ],
 "metadata": {
  "hide_input": false,
  "kernelspec": {
   "display_name": "Python 3 (ipykernel)",
   "language": "python",
   "name": "python3"
  },
  "language_info": {
   "codemirror_mode": {
    "name": "ipython",
    "version": 3
   },
   "file_extension": ".py",
   "mimetype": "text/x-python",
   "name": "python",
   "nbconvert_exporter": "python",
   "pygments_lexer": "ipython3",
   "version": "3.9.13"
  }
 },
 "nbformat": 4,
 "nbformat_minor": 5
}
