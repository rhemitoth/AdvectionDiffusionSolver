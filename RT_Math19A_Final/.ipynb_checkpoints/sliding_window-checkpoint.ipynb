{
 "cells": [
  {
   "cell_type": "code",
   "execution_count": 1,
   "id": "15fa28c7",
   "metadata": {},
   "outputs": [],
   "source": [
    "import numpy as np\n",
    "import numpy.lib.stride_tricks\n",
    "import math\n",
    "from matplotlib import pyplot as plt"
   ]
  },
  {
   "cell_type": "code",
   "execution_count": 2,
   "id": "ab9ecb59",
   "metadata": {},
   "outputs": [
    {
     "name": "stdout",
     "output_type": "stream",
     "text": [
      "[[[0. 0. 0. 0. 0. 0. 0. 0. 0. 0.]\n",
      "  [0. 0. 0. 0. 0. 0. 0. 0. 0. 0.]]\n",
      "\n",
      " [[0. 0. 0. 0. 0. 0. 0. 0. 0. 0.]\n",
      "  [0. 0. 0. 0. 0. 0. 0. 0. 0. 0.]]]\n",
      "[[[0. 0. 0. 0. 0. 0. 0. 0. 0. 0.]\n",
      "  [0. 0. 0. 0. 0. 0. 0. 0. 0. 0.]]]\n"
     ]
    }
   ],
   "source": [
    "u = np.zeros((2,2,10))\n",
    "w = np.zeros((1,2,10))\n",
    "print(u)\n",
    "print(w)"
   ]
  },
  {
   "cell_type": "code",
   "execution_count": 3,
   "id": "68642b18",
   "metadata": {},
   "outputs": [],
   "source": [
    "#Custom Functions\n",
    "\n",
    "#Trapezoid Integration Function\n",
    "def integrate(u,dx,x_vals):\n",
    "    area_under_curve = 0\n",
    "    for i in range(0,len(x_vals)-1):\n",
    "        area = dx * (u[i+1]+u[i]) / 2\n",
    "        area_under_curve = area_under_curve + area\n",
    "    return area_under_curve\n",
    "\n",
    "#Gaussian Function\n",
    "def gaussian(x, mu, sigma):\n",
    "    denom = sigma * ((2 * math.pi)**0.5)\n",
    "    numerator = math.exp(((x - mu)**2) / ((sigma) **2) / -2)\n",
    "    res = numerator / denom\n",
    "    return res\n",
    "\n",
    "# Habitat Preference\n",
    "def preference(x):\n",
    "    pi = math.pi\n",
    "    res = -math.cos(pi*x/5) + 1.1 \n",
    "    res = np.float64(res)\n",
    "    return res\n",
    "\n",
    "# 1st Derivative of Habitat Preference Function\n",
    "def preference_slope(x):\n",
    "    pi = math.pi\n",
    "    #res = pi/5*math.sin(pi*x/5)\n",
    "    #res = np.float64(res)\n",
    "    return 2\n",
    "\n",
    "# 2nd Derivative of Habitat Preference Function\n",
    "def preference_slope_slope(x):\n",
    "    pi = math.pi\n",
    "    res = (2*pi*pi/625) * math.cos(2*pi*x/25)# Example 1\n",
    "    #res = -0.02 * ((-0.02 * math.exp(-0.01*(x-50)**2)*(x-50))*(x-50)+1*math.exp(-0.01*(x-50)**2)) # Example 2\n",
    "    res = np.float64(res)\n",
    "    return 0\n",
    "\n",
    "#Normalized RMSE\n",
    "\n",
    "def rmse(model, true, nx, t):\n",
    "    summation = 0\n",
    "    for i in range(0,nx):\n",
    "        dif = (model[t][1][i] - true[0][1][i])**2\n",
    "        summation = summation + dif\n",
    "    rmse = (summation/nx)**0.5\n",
    "    return abs(rmse)\n",
    "\n",
    "#Convergence Flag\n",
    "\n",
    "def converge(current_t, t_minus1000, t_minus2000):\n",
    "    #function to determine whether finite difference scheme has convered\n",
    "    #inputs are rows of an array\n",
    "    current_t = np.float128(current_t ** 0.01)\n",
    "    t_minus50 = np.float128(t_minus1000 ** 0.01)\n",
    "    t_minus100 = np.float128(t_minus2000 ** 0.01)\n",
    "    h1 = abs(t_minus1000 - t_minus2000)\n",
    "    print(h1)\n",
    "    h2 = abs(current_t - t_minus1000)\n",
    "    print(h2)\n",
    "    dif = abs(h1-h2)\n",
    "    print(dif)\n",
    "    cuttoff = np.format_float_scientific(np.float128(1e-128), unique=False, precision=128)\n",
    "    mask = dif>np.float128(cuttoff)\n",
    "    print(mask)\n",
    "    if True not in mask:\n",
    "        print(\"yes\")\n",
    "        return True\n",
    "    \n",
    "#Sliding window\n",
    "def rolling_window(a, window):\n",
    "    shape = a.shape[:-1] + (a.shape[-1] - window + 1, window)\n",
    "    strides = a.strides + (a.strides[-1],)\n",
    "    return np.lib.stride_tricks.as_strided(a, shape=shape, strides=strides)\n",
    "        \n",
    "    "
   ]
  },
  {
   "cell_type": "code",
   "execution_count": 4,
   "id": "a966c6f8",
   "metadata": {},
   "outputs": [],
   "source": [
    "#Model Settings\n",
    "\n",
    "# Initializing x values where u(x,t) will be calculated\n",
    "dx = 1  # delta x\n",
    "Xs = np.arange(0, 11, dx)\n",
    "\n",
    "# Bounds\n",
    "start = Xs[0] # start bound\n",
    "stop = Xs[-1]# stop bound\n",
    "\n",
    "\n",
    "# Model parameters\n",
    "dt = 1 # delta t\n",
    "T = 2 # Total time\n",
    "Nt = int(T / dt)  # Number of time steps\n",
    "Nx = int((abs(stop-start))/dx)  # Number of x steps\n",
    "mean_sl = 0.04 #mean step length\n",
    "k = (mean_sl**2)/2/dt # diffusion coefficient equal to mean step length squared\n",
    "r = k * dt / dx / dx  # Fourier number\n",
    "\n",
    "# Fourier Number Flag\n",
    "if r > 0.5:\n",
    "    print(\"Fourier Number \" + str(r) +  \" > 0.5. Adjust mean step length, dx, or dt\")"
   ]
  },
  {
   "cell_type": "code",
   "execution_count": 5,
   "id": "217119f6",
   "metadata": {},
   "outputs": [
    {
     "name": "stdout",
     "output_type": "stream",
     "text": [
      "w:\n",
      "[[[ 0.          1.          2.          3.          4.\n",
      "    5.          6.          7.          8.          9.\n",
      "   10.        ]\n",
      "  [ 0.1         0.29098301  0.79098301  1.40901699  1.90901699\n",
      "    2.1         1.90901699  1.40901699  0.79098301  0.29098301\n",
      "    0.1       ]]]\n",
      "wx:\n",
      "[[[ 0.  1.  2.  3.  4.  5.  6.  7.  8.  9. 10.]\n",
      "  [ 2.  2.  2.  2.  2.  2.  2.  2.  2.  2.  2.]]]\n",
      "wxx:\n",
      "[[[ 0.  1.  2.  3.  4.  5.  6.  7.  8.  9. 10.]\n",
      "  [ 0.  0.  0.  0.  0.  0.  0.  0.  0.  0.  0.]]]\n",
      "c:\n",
      "[[[0.00000000e+00 1.00000000e+00 2.00000000e+00 3.00000000e+00\n",
      "   4.00000000e+00 5.00000000e+00 6.00000000e+00 7.00000000e+00\n",
      "   8.00000000e+00 9.00000000e+00 1.00000000e+01]\n",
      "  [3.20000000e-02 1.09972058e-02 4.04559893e-03 2.27108687e-03\n",
      "   1.67625538e-03 1.52380952e-03 1.67625538e-03 2.27108687e-03\n",
      "   4.04559893e-03 1.09972058e-02 3.20000000e-02]]]\n",
      "cx:\n",
      "[[[ 0.00000000e+00  1.00000000e+00  2.00000000e+00  3.00000000e+00\n",
      "    4.00000000e+00  5.00000000e+00  6.00000000e+00  7.00000000e+00\n",
      "    8.00000000e+00  9.00000000e+00  1.00000000e+01]\n",
      "  [-6.40000000e-01 -7.55865848e-02 -1.02292942e-02 -3.22364724e-03\n",
      "   -1.75614505e-03 -1.45124717e-03 -1.75614505e-03 -3.22364724e-03\n",
      "   -1.02292942e-02 -7.55865848e-02 -6.40000000e-01]]]\n",
      "u:\n",
      "[[[ 0.  1.  2.  3.  4.  5.  6.  7.  8.  9. 10.]\n",
      "  [ 1.  2.  3.  4.  5.  6.  5.  4.  3.  2.  1.]]\n",
      "\n",
      " [[ 0.  1.  2.  3.  4.  5.  6.  7.  8.  9. 10.]\n",
      "  [ 0.  0.  0.  0.  0.  0.  0.  0.  0.  0.  0.]]]\n"
     ]
    }
   ],
   "source": [
    "# Initializing x values where u(x,t) will be calculated\n",
    "Xs = np.arange(0, 11, dx)\n",
    "\n",
    "# Initializing array with Nt row, Nx columns, and [x,u(x,t)] per cell\n",
    "u = np.zeros((2, 2, len(Xs)))\n",
    "\n",
    "#Habitat Preference Function\n",
    "w = np.zeros((1,2,len(Xs)))\n",
    "w[0][0] = Xs\n",
    "for i in range(0,len(Xs)):\n",
    "    w[0][1][i] = preference(w[0][0][i])\n",
    "print(\"w:\")\n",
    "print(w)\n",
    "\n",
    "#First Spatial Derivative of Habitat Preference Function\n",
    "wx = np.zeros((1,2,len(Xs)))\n",
    "wx[0][0] = Xs\n",
    "for i in range(0,len(Xs)):\n",
    "    wx[0][1][i] = preference_slope(w[0][0][i])\n",
    "print(\"wx:\")\n",
    "print(wx)\n",
    "\n",
    "\n",
    "#Second Spatial Derivative of Habitat Preference Function\n",
    "wxx = np.zeros((1,2,len(Xs)))\n",
    "wxx[0][0] = Xs\n",
    "for i in range(0,len(Xs)):\n",
    "    wxx[0][1][i] = preference_slope_slope(w[0][0][i])\n",
    "print(\"wxx:\")\n",
    "print(wxx)\n",
    "\n",
    "#Velocity\n",
    "c = np.zeros((1,2,len(Xs)))\n",
    "c[0][0] = Xs\n",
    "for i in range(0,len(Xs)):\n",
    "    c[0][1][i] = ((mean_sl**2)/dt)*(wx[0][1][i]/w[0][1][i])\n",
    "print(\"c:\")\n",
    "print(c)\n",
    "    \n",
    "#First derivative of veloctiy\n",
    "cx = np.zeros((1,2,len(Xs)))\n",
    "cx[0][0] = Xs\n",
    "for i in range(0,len(Xs)):\n",
    "    numerator = (wxx[0][1][i] * w[0][1][i]) - (wx[0][1][i]**2)\n",
    "    denom = w[0][1][i]**2\n",
    "    cx[0][1][i] = ((mean_sl**2)/dt)* numerator / denom\n",
    "print(\"cx:\")\n",
    "print(cx)\n",
    "\n",
    "# Populating x values in array u\n",
    "for j in range(0, 2):\n",
    "    u[j][0]=Xs\n",
    "    \n",
    "# Setting Initial Condition\n",
    "IC=[1,2,3,4,5,6,5,4,3,2,1]\n",
    "u[0][1] = IC # Populating initial condition in array u\n",
    "\n",
    "print(\"u:\")\n",
    "print(u)"
   ]
  },
  {
   "cell_type": "code",
   "execution_count": 6,
   "id": "76c5213b",
   "metadata": {},
   "outputs": [
    {
     "name": "stdout",
     "output_type": "stream",
     "text": [
      "c_win:\n",
      "[[0.032      0.01099721 0.0040456 ]\n",
      " [0.01099721 0.0040456  0.00227109]\n",
      " [0.0040456  0.00227109 0.00167626]\n",
      " [0.00227109 0.00167626 0.00152381]\n",
      " [0.00167626 0.00152381 0.00167626]\n",
      " [0.00152381 0.00167626 0.00227109]\n",
      " [0.00167626 0.00227109 0.0040456 ]\n",
      " [0.00227109 0.0040456  0.01099721]\n",
      " [0.0040456  0.01099721 0.032     ]]\n",
      "u_win:\n",
      "[[1. 2. 3.]\n",
      " [2. 3. 4.]\n",
      " [3. 4. 5.]\n",
      " [4. 5. 6.]\n",
      " [5. 6. 5.]\n",
      " [6. 5. 4.]\n",
      " [5. 4. 3.]\n",
      " [4. 3. 2.]\n",
      " [3. 2. 1.]]\n",
      "a:\n",
      "[[0.032      0.02199441 0.0121368 ]\n",
      " [0.02199441 0.0121368  0.00908435]\n",
      " [0.0121368  0.00908435 0.00838128]\n",
      " [0.00908435 0.00838128 0.00914286]\n",
      " [0.00838128 0.00914286 0.00838128]\n",
      " [0.00914286 0.00838128 0.00908435]\n",
      " [0.00838128 0.00908435 0.0121368 ]\n",
      " [0.00908435 0.0121368  0.02199441]\n",
      " [0.0121368  0.02199441 0.032     ]]\n"
     ]
    }
   ],
   "source": [
    "c_win = rolling_window(c[0][1],3)\n",
    "u_win = rolling_window(u[0][1],3)\n",
    "a = c_win * u_win\n",
    "\n",
    "print(\"c_win:\")\n",
    "print(c_win)\n",
    "print(\"u_win:\")\n",
    "print(u_win)\n",
    "print(\"a:\")\n",
    "print(a)\n",
    "\n",
    "#Coefs from finite difference\n",
    "advec_multipliers_cd = np.array([-1,0,1])\n",
    "#Coefs from finite difference\n",
    "advec_multipliers_posc = np.array([1,-4,3])\n",
    "#Coefs from finite difference\n",
    "advec_multipliers_negc = np.array([-3,4,-1])\n",
    "#Coefs from finite difference\n",
    "diffusion_multipliers = np.array([1,-2,1])"
   ]
  },
  {
   "cell_type": "code",
   "execution_count": 7,
   "id": "e1c7429a",
   "metadata": {},
   "outputs": [
    {
     "name": "stdout",
     "output_type": "stream",
     "text": [
      "advec_posc:\n",
      "[ 0.          0.         -0.00978363  0.00035013  0.00047162  0.00149391\n",
      " -0.00152316  0.0014354   0.00422714  0.0132602   0.01007958]\n"
     ]
    }
   ],
   "source": [
    "#c > 0 upwind\n",
    "\n",
    "#Calculating Advection\n",
    "advec_broad_posc = np.broadcast(a, advec_multipliers_posc)\n",
    "advec_posc = np.empty(advec_broad_posc.shape)\n",
    "advec_posc.flat = [u*v/(2*dx) for (u,v) in advec_broad_posc]\n",
    "advec_sum_posc = np.sum(advec_posc, axis = 1)\n",
    "advec_posc = numpy.append([0,0],advec_sum_posc)\n",
    "\n",
    "print(\"advec_posc:\")\n",
    "print(advec_posc)"
   ]
  },
  {
   "cell_type": "code",
   "execution_count": 8,
   "id": "8d1daf36",
   "metadata": {},
   "outputs": [
    {
     "name": "stdout",
     "output_type": "stream",
     "text": [
      "advec_negc:\n",
      "[-0.01007958 -0.0132602  -0.00422714 -0.0014354   0.00152316 -0.00149391\n",
      " -0.00047162 -0.00035013  0.00978363  0.          0.        ]\n"
     ]
    }
   ],
   "source": [
    "#c < 0 upwind\n",
    "\n",
    "#Calculating Advection\n",
    "advec_broad_negc = np.broadcast(a, advec_multipliers_negc)\n",
    "advec_negc = np.empty(advec_broad_negc.shape)\n",
    "advec_negc.flat = [u*v/(2*dx) for (u,v) in advec_broad_negc]\n",
    "advec_sum_negc = np.sum(advec_negc, axis = 1)\n",
    "advec_negc = numpy.append(advec_sum_negc,[0,0])\n",
    "\n",
    "print(\"advec_negc:\")\n",
    "print(advec_negc)"
   ]
  },
  {
   "cell_type": "code",
   "execution_count": 9,
   "id": "8c588603",
   "metadata": {},
   "outputs": [
    {
     "name": "stdout",
     "output_type": "stream",
     "text": [
      "advec_cd:\n",
      "[ 0.00000000e+00 -9.93160161e-03 -6.45503206e-03 -1.87775995e-03\n",
      "  2.92548251e-05  0.00000000e+00 -2.92548251e-05  1.87775995e-03\n",
      "  6.45503206e-03  9.93160161e-03  0.00000000e+00]\n"
     ]
    }
   ],
   "source": [
    "# c central dif\n",
    "\n",
    "#Calculating Advection\n",
    "advec_broad_cd = np.broadcast(a, advec_multipliers_cd)\n",
    "advec_cd = np.empty(advec_broad_cd.shape)\n",
    "advec_cd.flat = [u*v/(2*dx) for (u,v) in advec_broad_cd]\n",
    "advec_sum_cd = np.sum(advec_cd, axis = 1)\n",
    "advec_cd1 = np.append([0], advec_sum_cd)\n",
    "advec_cd = np.append(advec_cd1,[0])\n",
    "\n",
    "print(\"advec_cd:\")\n",
    "print(advec_cd)"
   ]
  },
  {
   "cell_type": "code",
   "execution_count": 10,
   "id": "563c3938",
   "metadata": {},
   "outputs": [
    {
     "name": "stdout",
     "output_type": "stream",
     "text": [
      "c_win:\n",
      "[[0.032      0.01099721 0.0040456 ]\n",
      " [0.01099721 0.0040456  0.00227109]\n",
      " [0.0040456  0.00227109 0.00167626]\n",
      " [0.00227109 0.00167626 0.00152381]\n",
      " [0.00167626 0.00152381 0.00167626]\n",
      " [0.00152381 0.00167626 0.00227109]\n",
      " [0.00167626 0.00227109 0.0040456 ]\n",
      " [0.00227109 0.0040456  0.01099721]\n",
      " [0.0040456  0.01099721 0.032     ]]\n",
      "csign_win:\n",
      "[[1 1 1]\n",
      " [1 1 1]\n",
      " [1 1 1]\n",
      " [1 1 1]\n",
      " [1 1 1]\n",
      " [1 1 1]\n",
      " [1 1 1]\n",
      " [1 1 1]\n",
      " [1 1 1]]\n",
      "posc_check:\n",
      "[False False  True  True  True  True  True  True  True  True  True]\n",
      "negc_check:\n",
      "[False False False False False False False False False False False]\n",
      "cd_check:\n",
      "[False  True False False False False False False False False False]\n",
      "csign:\n",
      "[1 1 1 1 1 1 1 1 1 1 1]\n",
      "advec_scheme:\n",
      "[-99   0   1   1   1   1   1   1   1   1   1]\n"
     ]
    }
   ],
   "source": [
    "#assigning advection scheme\n",
    "#1 = c>0\n",
    "#0 = central difference\n",
    "#-1 = c<0\n",
    "\n",
    "csign_win = np.where(c_win < 0, -1,np.where(c_win>0,1,0))\n",
    "\n",
    "posc_check1 = np.all(csign_win == 1, axis = 1)\n",
    "posc_check = np.append([False,False],posc_check1)\n",
    "\n",
    "negc_check1 = np.all(csign_win == -1, axis = 1)\n",
    "negc_check = np.append(negc_check1, [False,False])\n",
    "\n",
    "cd_check = np.where(negc_check == posc_check, True, False)\n",
    "cd_check[0] = False\n",
    "cd_check[-1] = False\n",
    "\n",
    "advec_scheme = np.full((1,len(Xs)),-99)\n",
    "advec_scheme = np.where(posc_check == True,1,np.where(negc_check == True,-1,np.where(cd_check == True, 0, advec_scheme[0][1])))\n",
    "\n",
    "advection = np.zeros((1,len(Xs)))\n",
    "advection = np.where(advec_scheme == 1, advec_posc, \n",
    "                           np.where(advec_scheme == 0, advec_cd,\n",
    "                                   np.where(advec_scheme == -1, advec_negc, -99)))\n",
    "print(\"c_win:\")\n",
    "print(c_win)\n",
    "print(\"csign_win:\")\n",
    "print(csign_win)\n",
    "print(\"posc_check:\")\n",
    "print(posc_check)\n",
    "print(\"negc_check:\")\n",
    "print(negc_check)\n",
    "print(\"cd_check:\")\n",
    "print(cd_check)\n",
    "print(\"csign:\")\n",
    "print(np.where(c[0][1]<0,-1,np.where(c[0][1]>0,1,0)))\n",
    "print(\"advec_scheme:\")\n",
    "print(advec_scheme)"
   ]
  },
  {
   "cell_type": "code",
   "execution_count": null,
   "id": "b5a6794c",
   "metadata": {},
   "outputs": [],
   "source": []
  },
  {
   "cell_type": "code",
   "execution_count": 11,
   "id": "fe063175",
   "metadata": {},
   "outputs": [],
   "source": [
    "#Calculate advection manually at edges\n",
    "csign = np.where(c[0][1] < 0, -1,np.where(c[0][1]>0,1,0))\n",
    "\n",
    "#Left Edge\n",
    "backward_csign = np.array([csign[0],csign[-1], csign[-2]])\n",
    "if advection[0] == -99 and sum(backward_csign) == 3:\n",
    "    backward_u = np.array([u[0][1][-2], u[0][1][-1], u[0][1][0]])\n",
    "    backward_c = np.array([c[0][1][-2], c[0][1][-1], c[0][1][0]])\n",
    "    advec = backward_c * advec_multipliers_posc * backward_u * (1/(2*dx))\n",
    "    advec_sum = sum(advec)\n",
    "    advection[0] = advec_sum\n",
    "else:\n",
    "    center_left_u = np.array([u[0][1][-1], u[0][1][0], u[0][1][1]])\n",
    "    center_left_c = np.array([c[0][1][-1], c[0][1][0], c[0][1][1]])\n",
    "    advec = center_left_u * center_left_c * advec_multipliers_cd * (1/(2*dx))\n",
    "    advec_sum = sum(advec)\n",
    "    advection[0] = advec_sum\n",
    "                           \n",
    "#Right Edge\n",
    "forward_csign = np.array([csign[-1],csign[0], csign[1]])\n",
    "if advection[-1] == -99 and sum(forward_csign) == -3:\n",
    "    forward_u = np.array([u[0][1][-1], u[0][1][0], u[0][1][1]])\n",
    "    forward_c =  np.array([c[0][1][-1], c[0][1][0], c[0][1][1]])\n",
    "    advec = forward_c * advec_multipliers_negc * forward_u * (1/(2*dx))\n",
    "    advec_sum = sum(advec)\n",
    "    advection[-1] = advec_sum\n",
    "else:\n",
    "    center_right_u = np.array([u[0][1][-2], u[0][1][-1], u[0][1][0]])\n",
    "    center_right_c = np.array([c[0][1][-2], c[0][1][-1], c[0][1][0]])\n",
    "    advec = center_right_u * center_right_c * advec_multipliers_cd * (1/(2*dx))\n",
    "    advec_sum = sum(advec)\n",
    "    advection[-1] = advec_sum\n"
   ]
  },
  {
   "cell_type": "code",
   "execution_count": 12,
   "id": "a1b0ae88",
   "metadata": {},
   "outputs": [
    {
     "name": "stdout",
     "output_type": "stream",
     "text": [
      "[0.01099721 0.032      0.032     ]\n",
      "[2. 1. 1.]\n"
     ]
    }
   ],
   "source": [
    "print(backward_c)\n",
    "print(backward_u)"
   ]
  },
  {
   "cell_type": "code",
   "execution_count": 13,
   "id": "dbd0ff6b",
   "metadata": {},
   "outputs": [
    {
     "name": "stdout",
     "output_type": "stream",
     "text": [
      "[-0.64500279 -0.16110477 -0.04047151 -0.01254446 -0.00830911 -0.00721358\n",
      " -0.01030389 -0.01145919 -0.02646074 -0.13791297 -0.63499721]\n"
     ]
    }
   ],
   "source": [
    "#Adding c'(i) * u(i,j) to advection term\n",
    "advection = advection + (u[0][1] * cx[0][1])\n",
    "print(advection)"
   ]
  },
  {
   "cell_type": "code",
   "execution_count": 14,
   "id": "efe09caa",
   "metadata": {},
   "outputs": [],
   "source": [
    "#Calculating Diffusion\n",
    "dif_broad = np.broadcast(u_win,diffusion_multipliers)\n",
    "dif = np.empty(dif_broad.shape)\n",
    "dif.flat = [u*v/(dx**2) for (u,v) in dif_broad]\n",
    "dif_sum = np.sum(dif, axis = 1)\n",
    "dif1 = np.append([0], dif_sum)\n",
    "diffusion = np.append(dif1, [0])"
   ]
  },
  {
   "cell_type": "code",
   "execution_count": 15,
   "id": "c38a08b9",
   "metadata": {},
   "outputs": [
    {
     "name": "stdout",
     "output_type": "stream",
     "text": [
      "[[ 0.  1.  2.  3.  4.  5.  6.  7.  8.  9. 10.]\n",
      " [ 1.  2.  3.  4.  5.  6.  5.  4.  3.  2.  1.]]\n"
     ]
    }
   ],
   "source": [
    "print(u[0])"
   ]
  },
  {
   "cell_type": "code",
   "execution_count": 16,
   "id": "87203c73",
   "metadata": {},
   "outputs": [
    {
     "name": "stdout",
     "output_type": "stream",
     "text": [
      "diffusion:\n",
      "[ 0.0008  0.      0.      0.      0.     -0.0016  0.      0.      0.\n",
      "  0.      0.0008]\n"
     ]
    }
   ],
   "source": [
    "#Calculaing Diffusion manually at edges\n",
    "center_left_u = np.array([u[0][1][-1], u[0][1][0], u[0][1][1]])\n",
    "dif_left = center_left_u * diffusion_multipliers * (1/(dx**2))\n",
    "dif_left_sum = sum(dif_left)\n",
    "diffusion[0] = dif_left_sum\n",
    "\n",
    "center_right_u = np.array([u[0][1][-2], u[0][1][-1], u[0][1][0]])\n",
    "dif_right = center_right_u * diffusion_multipliers * (1/(dx**2))\n",
    "dif_right_sum = sum(dif_right)\n",
    "diffusion[-1] = dif_right_sum\n",
    "\n",
    "#multiplying by diffusion constant\n",
    "diffusion = diffusion * k\n",
    "print(\"diffusion:\")\n",
    "print(diffusion)"
   ]
  },
  {
   "cell_type": "code",
   "execution_count": 17,
   "id": "3b3fc53e",
   "metadata": {},
   "outputs": [
    {
     "name": "stdout",
     "output_type": "stream",
     "text": [
      "u[j+1]:\n",
      "[[ 0.          1.          2.          3.          4.          5.\n",
      "   6.          7.          8.          9.         10.        ]\n",
      " [ 0.04564703  0.05993915  0.08432875  0.1112896   0.13890755  0.16656821\n",
      "   0.13896288  0.1112595   0.08394016  0.05929591  0.04536952]]\n"
     ]
    }
   ],
   "source": [
    "#calculating u at time (j+1)\n",
    "u[1][1] = u[0][1] + diffusion-advection\n",
    "\n",
    "#Normalizing by area under curve\n",
    "area = integrate(u = u[1][1],\n",
    "                dx = dx,\n",
    "                x_vals = Xs)\n",
    "\n",
    "u[1][1] = u[1][1]/area\n",
    "\n",
    "print(\"u[j+1]:\")\n",
    "print(u[1])"
   ]
  },
  {
   "cell_type": "code",
   "execution_count": 18,
   "id": "ea33d235",
   "metadata": {},
   "outputs": [
    {
     "name": "stdout",
     "output_type": "stream",
     "text": [
      "IC:\n",
      "[[ 0.  1.  2.  3.  4.  5.  6.  7.  8.  9. 10.]\n",
      " [ 1.  2.  3.  4.  5.  6.  5.  4.  3.  2.  1.]]\n",
      "u[j+1]:\n",
      "[[ 0.          1.          2.          3.          4.          5.\n",
      "   6.          7.          8.          9.         10.        ]\n",
      " [ 0.04564703  0.05993915  0.08432875  0.1112896   0.13890755  0.16656821\n",
      "   0.13896288  0.1112595   0.08394016  0.05929591  0.04536952]]\n"
     ]
    }
   ],
   "source": [
    "print(\"IC:\")\n",
    "print(u[0])\n",
    "print(\"u[j+1]:\")\n",
    "print(u[1])"
   ]
  },
  {
   "cell_type": "code",
   "execution_count": 19,
   "id": "107e3f3b",
   "metadata": {},
   "outputs": [
    {
     "data": {
      "text/plain": [
       "<function matplotlib.pyplot.show(close=None, block=None)>"
      ]
     },
     "execution_count": 19,
     "metadata": {},
     "output_type": "execute_result"
    },
    {
     "data": {
      "image/png": "[encoded data removed]",
      "text/plain": [
       "<Figure size 640x480 with 1 Axes>"
      ]
     },
     "metadata": {},
     "output_type": "display_data"
    }
   ],
   "source": [
    "plt.plot(Xs, u[0][1], color = \"black\")\n",
    "plt.plot(Xs, u[1][1])\n",
    "\n",
    "plt.show"
   ]
  },
  {
   "cell_type": "code",
   "execution_count": 20,
   "id": "11c7cfb6",
   "metadata": {},
   "outputs": [
    {
     "name": "stdout",
     "output_type": "stream",
     "text": [
      "0\n",
      "0\n",
      "0.6450027941902432\n",
      "0.0008\n",
      "1.6458027941902431\n",
      "1\n",
      "1\n",
      "0.16618155209838814\n",
      "0.0\n",
      "2.1661815520983883\n",
      "2\n",
      "2\n",
      "0.04047151060479988\n",
      "0.0\n",
      "3.0404715106048\n",
      "3\n",
      "3\n",
      "0.012544455485803406\n",
      "0.0\n",
      "4.012544455485803\n",
      "4\n",
      "4\n",
      "0.00830910654053032\n",
      "0.0\n",
      "5.008309106540531\n",
      "5\n",
      "5\n",
      "0.007213577294159799\n",
      "-0.0016\n",
      "6.00561357729416\n",
      "6\n",
      "6\n",
      "0.010303885793192906\n",
      "0.0\n",
      "5.010303885793193\n",
      "7\n",
      "7\n",
      "0.011459192914860781\n",
      "0.0\n",
      "4.01145919291486\n",
      "8\n",
      "8\n",
      "0.026460743910748617\n",
      "0.0\n",
      "3.0264607439107487\n",
      "9\n",
      "9\n",
      "0.13791297192290602\n",
      "0.0\n",
      "2.137912971922906\n",
      "10\n",
      "10\n",
      "0.6299204248463066\n",
      "0.0008\n",
      "1.6307204248463065\n"
     ]
    }
   ],
   "source": [
    "#calcultions using old scheme for comparison\n",
    "# Initializing array with Nt row, Nx columns, and [x,u(x,t)] per cell\n",
    "u_check = np.zeros((2, 2, len(Xs)))\n",
    "\n",
    "\n",
    "# Populating x values in array u\n",
    "for j in range(0, 2):\n",
    "    u_check[j][0]=Xs\n",
    "    \n",
    "# Setting Initial Condition\n",
    "IC=[1,2,3,4,5,6,5,4,3,2,1]\n",
    "u_check[0][1] = IC # Populating initial condition in array u\n",
    "\n",
    "\n",
    "for j in range(0,Nt-1):\n",
    "    for i in range(0,Nx+1):\n",
    "        print(i)   \n",
    "        #Defining velocity at u[i], u[i-1], u[i-2],u[i+1],and u[i+2]\n",
    "        \n",
    "        c_x = (mean_sl**2) * wx[0][1][i] / w[0][1][i] / dt \n",
    "        cx_x = (mean_sl**2)/dt * (wxx[0][1][i]*w[0][1][i]-wx[0][1][i]**2) / (w[0][1][i]**2)\n",
    "  \n",
    "        if i == 0:\n",
    "            \n",
    "            c_xminus1 = (mean_sl**2) * wx[0][1][-1] / w[0][1][-1] / dt\n",
    "            c_xminus2 = (mean_sl**2) * wx[0][1][-2] / w[0][1][-2] / dt\n",
    "            \n",
    "        elif i == 1:\n",
    "            \n",
    "            c_xminus1 = (mean_sl ** 2) * wx[0][1][0] / w[0][1][0] / dt\n",
    "            c_xminus2 = (mean_sl ** 2) * wx[0][1][-1] / w[0][1][-1] / dt\n",
    "            \n",
    "        else:\n",
    "            \n",
    "            c_xminus1 = (mean_sl ** 2) * wx[0][1][i-1] / w[0][1][i-1] / dt\n",
    "            c_xminus2 = (mean_sl ** 2) * wx[0][1][i-2] / w[0][1][i-2] / dt\n",
    "            \n",
    "        if i == Nx:\n",
    "            \n",
    "            c_xplus1 = (mean_sl**2) * wx[0][1][0] / w[0][1][0] / dt\n",
    "            c_xplus2 = (mean_sl**2) * wx[0][1][1] / w[0][1][1] / dt\n",
    "            \n",
    "        elif i == (Nx - 1):\n",
    "            \n",
    "            c_xplus1 = (mean_sl ** 2) * wx[0][1][-1] / w[0][1][-1] / dt\n",
    "            c_xplus2 = (mean_sl ** 2) * wx[0][1][0] / w[0][1][0] / dt\n",
    "            \n",
    "        else:\n",
    "            \n",
    "            c_xplus1 = (mean_sl ** 2) * wx[0][1][i+1] / w[0][1][i+1] / dt\n",
    "            c_xplus2 = (mean_sl ** 2) * wx[0][1][i+2] / w[0][1][i+2] / dt\n",
    "  \n",
    "        \n",
    "        #Calcutlting u(x) at future timesteps\n",
    "        \n",
    "        \n",
    "        if c_x > 0 and c_xminus1 > 0 and c_xminus2 > 0:\n",
    "            if i == 0:\n",
    "                \n",
    "                diffusion = r * (u_check[j][1][i + 1] - 2 * u_check[j][1][i] + u_check[j][1][Nx])\n",
    "                advection = -dt*(cx_x*u_check[j][1][i] + (1/(2*dx))*(3* c_x * u_check[j][1][i] - \n",
    "                                                                     4 * c_xminus1 * u_check[j][1][Nx] + \n",
    "                                                                     c_xminus2 * u_check[j][1][Nx-1]))\n",
    "               \n",
    "                \n",
    "                u_check[j + 1][1][i] = u_check[j][1][i] + diffusion + advection\n",
    "                \n",
    "            elif i == 1:\n",
    "                \n",
    "                diffusion = r * (u_check[j][1][i + 1] - 2 * u_check[j][1][i] + u_check[j][1][i - 1])\n",
    "                advection = -dt*(cx_x*u_check[j][1][i] + (1/(2*dx))*(3* c_x * u_check[j][1][i] - \n",
    "                                                                     4 * c_xminus1 * u_check[j][1][i-1] + \n",
    "                                                                     c_xminus2 * u_check[j][1][Nx]))\n",
    "                \n",
    "                u_check[j + 1][1][i] = u_check[j][1][i] + diffusion + advection\n",
    "            \n",
    "            elif i == Nx:\n",
    "                diffusion = r * (u_check[j][1][0] - 2 * u_check[j][1][i] + u_check[j][1][i - 1])\n",
    "                advection = -dt*(cx_x*u_check[j][1][i] + (1/(2*dx))*(3* c_x * u_check[j][1][i] - \n",
    "                                                                     4 * c_xminus1 * u_check[j][1][i-1] + \n",
    "                                                                     c_xminus2 * u_check[j][1][i-2])) \n",
    "                \n",
    "                u_check[j + 1][1][i] = u_check[j][1][i] + diffusion + advection \n",
    "            else:\n",
    "                \n",
    "                diffusion = r * (u_check[j][1][i + 1] - 2 * u_check[j][1][i] + u_check[j][1][i - 1])\n",
    "                advection = -dt*(cx_x*u_check[j][1][i] + (1/(2*dx))*(3* c_x * u_check[j][1][i] - \n",
    "                                                                     4 * c_xminus1 * u_check[j][1][i-1] + \n",
    "                                                                     c_xminus2 * u_check[j][1][i-2])) \n",
    "                \n",
    "                u_check[j + 1][1][i] = u_check[j][1][i] + diffusion + advection \n",
    "        \n",
    "        elif c_x < 0 and c_xplus1 < 0 and c_xplus2 < 0:\n",
    "            if i == Nx:\n",
    "                \n",
    "                diffusion = r * (u_check[j][1][0] - 2 * u_check[j][1][i] + u_check[j][1][i - 1])\n",
    "                advection = -dt*(cx_x*u_check[j][1][i] + (1/(2*dx))*(-c_xplus2 * u_check[j][1][1] +\n",
    "                                                                     4 * c_xplus1 * u_check[j][1][0] - \n",
    "                                                                     3 * c_x * u_check[j][1][i])) \n",
    "               \n",
    "                u_check[j + 1][1][i] = u_check[j][1][i] + diffusion + advection\n",
    "                \n",
    "            elif i == (Nx-1):\n",
    "                \n",
    "                diffusion = r * (u_check[j][1][i + 1] - 2 * u_check[j][1][i] + u_check[j][1][i - 1])\n",
    "                advection = -dt*(cx_x*u_check[j][1][i] + (1/(2*dx))*(-c_xplus2 * u_check[j][1][0] +\n",
    "                                                                     4 * c_xplus1 * u_check[j][1][i+1] - \n",
    "                                                                     3 * c_x * u_check[j][1][i]))\n",
    "                \n",
    "                u_check[j + 1][1][i] = u_check[j][1][i] + diffusion + advection \n",
    "           \n",
    "            else:\n",
    "                \n",
    "                diffusion = r * (u_check[j][1][i + 1] - 2 * u_check[j][1][i] + u_check[j][1][i - 1])\n",
    "                advection = -dt*(cx_x*u_check[j][1][i] + (1/(2*dx))*(-c_xplus2 * u_check[j][1][i+2] \n",
    "                                                                     +4 * c_xplus1 * u_check[j][1][i+1] - \n",
    "                                                                     3 * c_x * u_check[j][1][i]))\n",
    "                \n",
    "                u_check[j + 1][1][i] = u_check[j][1][i] + diffusion + advection \n",
    "       \n",
    "        else:\n",
    "            if i == 0:\n",
    "                diffusion = r * (u_check[j][1][i + 1] - 2 * u_check[j][1][i] + u_check[j][1][-1])\n",
    "                advection = -dt*(cx_x*u_check[j][1][i] + (1/(2*dx))*(c_xplus1 * u_check[j][1][i + 1] -\n",
    "                                                                     c_xminus1 * u_check[j][1][-1]))\n",
    "\n",
    "                u_check[j + 1][1][i] = u_check[j][1][i] + diffusion + advection \n",
    "\n",
    "            elif i == Nx:\n",
    "\n",
    "                diffusion = r * (u_check[j][1][0] - 2 * u_check[j][1][i] + u_check[j][1][i - 1])\n",
    "                advection = -dt*(cx_x*u_check[j][1][i] + (1/(2*dx))*(c_xplus1 * u_check[j][1][0] - \n",
    "                                                                     c_xminus1 * u_check[j][1][i-1]))\n",
    "\n",
    "                u_check[j + 1][1][i] = u_check[j][1][i] + diffusion + advection \n",
    "\n",
    "            else:\n",
    "\n",
    "                diffusion = r * (u_check[j][1][i + 1] - 2 * u_check[j][1][i] + u_check[j][1][i - 1])\n",
    "                advection = -dt*(cx_x*u_check[j][1][i] + (1/(2*dx))*(c_xplus1 * u_check[j][1][i+1] - \n",
    "                                                                     c_xminus1 * u_check[j][1][i-1]))\n",
    "\n",
    "                u_check[j + 1][1][i] = u_check[j][1][i] + diffusion + advection \n",
    "\n",
    "        print(i)\n",
    "        print(advection)\n",
    "        print(diffusion)\n",
    "        print(u_check[j+1][1][i])\n",
    "    area = integrate(u = u_check[j + 1][1],\n",
    "                     dx = dx,\n",
    "                     x_vals = Xs)\n",
    "    u_check[j+1][1] = u_check[j+1][1]/area\n",
    "\n",
    "\n",
    "    \n"
   ]
  },
  {
   "cell_type": "code",
   "execution_count": 21,
   "id": "bbf1bd3f",
   "metadata": {},
   "outputs": [
    {
     "name": "stdout",
     "output_type": "stream",
     "text": [
      "0.6299204248463066\n",
      "0.0008\n"
     ]
    }
   ],
   "source": [
    "print(advection)\n",
    "print(diffusion)"
   ]
  },
  {
   "cell_type": "code",
   "execution_count": 22,
   "id": "7898a1bd",
   "metadata": {},
   "outputs": [
    {
     "data": {
      "text/plain": [
       "array([[[ 0.        ,  1.        ,  2.        ,  3.        ,\n",
       "          4.        ,  5.        ,  6.        ,  7.        ,\n",
       "          8.        ,  9.        , 10.        ],\n",
       "        [ 1.        ,  2.        ,  3.        ,  4.        ,\n",
       "          5.        ,  6.        ,  5.        ,  4.        ,\n",
       "          3.        ,  2.        ,  1.        ]],\n",
       "\n",
       "       [[ 0.        ,  1.        ,  2.        ,  3.        ,\n",
       "          4.        ,  5.        ,  6.        ,  7.        ,\n",
       "          8.        ,  9.        , 10.        ],\n",
       "        [ 0.04564382,  0.06007572,  0.08432282,  0.11128177,\n",
       "          0.13889778,  0.16655649,  0.1389531 ,  0.11125167,\n",
       "          0.08393425,  0.05929174,  0.04522553]]])"
      ]
     },
     "execution_count": 22,
     "metadata": {},
     "output_type": "execute_result"
    }
   ],
   "source": [
    "u_check"
   ]
  },
  {
   "cell_type": "code",
   "execution_count": 23,
   "id": "fefe06e4",
   "metadata": {},
   "outputs": [
    {
     "name": "stdout",
     "output_type": "stream",
     "text": [
      "u_check:\n",
      "[[[ 0.          1.          2.          3.          4.\n",
      "    5.          6.          7.          8.          9.\n",
      "   10.        ]\n",
      "  [ 1.          2.          3.          4.          5.\n",
      "    6.          5.          4.          3.          2.\n",
      "    1.        ]]\n",
      "\n",
      " [[ 0.          1.          2.          3.          4.\n",
      "    5.          6.          7.          8.          9.\n",
      "   10.        ]\n",
      "  [ 0.04564382  0.06007572  0.08432282  0.11128177  0.13889778\n",
      "    0.16655649  0.1389531   0.11125167  0.08393425  0.05929174\n",
      "    0.04522553]]]\n",
      "u:\n",
      "[[[ 0.          1.          2.          3.          4.\n",
      "    5.          6.          7.          8.          9.\n",
      "   10.        ]\n",
      "  [ 1.          2.          3.          4.          5.\n",
      "    6.          5.          4.          3.          2.\n",
      "    1.        ]]\n",
      "\n",
      " [[ 0.          1.          2.          3.          4.\n",
      "    5.          6.          7.          8.          9.\n",
      "   10.        ]\n",
      "  [ 0.04564703  0.05993915  0.08432875  0.1112896   0.13890755\n",
      "    0.16656821  0.13896288  0.1112595   0.08394016  0.05929591\n",
      "    0.04536952]]]\n"
     ]
    }
   ],
   "source": [
    "print(\"u_check:\")\n",
    "print(u_check)\n",
    "\n",
    "print(\"u:\")\n",
    "print(u)"
   ]
  },
  {
   "cell_type": "code",
   "execution_count": null,
   "id": "fbe9876f",
   "metadata": {},
   "outputs": [],
   "source": []
  }
 ],
 "metadata": {
  "hide_input": false,
  "kernelspec": {
   "display_name": "Python 3 (ipykernel)",
   "language": "python",
   "name": "python3"
  },
  "language_info": {
   "codemirror_mode": {
    "name": "ipython",
    "version": 3
   },
   "file_extension": ".py",
   "mimetype": "text/x-python",
   "name": "python",
   "nbconvert_exporter": "python",
   "pygments_lexer": "ipython3",
   "version": "3.9.13"
  }
 },
 "nbformat": 4,
 "nbformat_minor": 5
}
